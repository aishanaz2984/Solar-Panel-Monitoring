{
 "cells": [
  {
   "cell_type": "code",
   "execution_count": 1,
   "metadata": {},
   "outputs": [
    {
     "name": "stderr",
     "output_type": "stream",
     "text": [
      "Using TensorFlow backend.\n"
     ]
    }
   ],
   "source": [
    "#mrdragonbear tutorial\n",
    "import matplotlib.pyplot as plt\n",
    "import numpy as np\n",
    "from scipy.optimize import minimize\n",
    "\n",
    "%matplotlib inline\n",
    "\n",
    "import tensorflow as tf\n",
    "import keras\n",
    "from keras import layers\n",
    "from keras import models\n",
    "from keras import utils\n",
    "from keras.layers import Dense\n",
    "from keras.models import Sequential\n",
    "from keras.layers import Flatten\n",
    "from keras.layers import Dropout\n",
    "from keras.layers import Activation\n",
    "from keras.regularizers import l2\n",
    "from keras.optimizers import SGD\n",
    "from keras.optimizers import RMSprop\n",
    "from keras import datasets\n",
    "\n",
    "from keras.callbacks import LearningRateScheduler\n",
    "from keras.callbacks import History\n",
    "\n",
    "from keras import losses\n",
    "from sklearn.utils import shuffle\n",
    "\n"
   ]
  },
  {
   "cell_type": "code",
   "execution_count": 2,
   "metadata": {},
   "outputs": [],
   "source": [
    "# define Beale's function which we want to minimize\n",
    "def objective(X):\n",
    "    x = X[0]; y = X[1]\n",
    "    return (1.5 - x + x*y)**2 + (2.25 - x + x*y**2)**2 + (2.625 - x + x*y**3)**2"
   ]
  },
  {
   "cell_type": "code",
   "execution_count": 3,
   "metadata": {},
   "outputs": [],
   "source": [
    "# function boundaries\n",
    "xmin, xmax, xstep = -4.5, 4.5, .9\n",
    "ymin, ymax, ystep = -4.5, 4.5, .9"
   ]
  },
  {
   "cell_type": "code",
   "execution_count": 4,
   "metadata": {},
   "outputs": [],
   "source": [
    "# Let's create some points\n",
    "x1, y1 = np.meshgrid(np.arange(xmin, xmax + xstep, xstep), np.arange(ymin, ymax + ystep, ystep))\n"
   ]
  },
  {
   "cell_type": "code",
   "execution_count": 5,
   "metadata": {},
   "outputs": [
    {
     "name": "stdout",
     "output_type": "stream",
     "text": [
      "68891.203125\n"
     ]
    }
   ],
   "source": [
    "# initial guess\n",
    "x0 = [4., 4.]  \n",
    "f0 = objective(x0)\n",
    "print (f0)"
   ]
  },
  {
   "cell_type": "code",
   "execution_count": 6,
   "metadata": {},
   "outputs": [],
   "source": [
    "bnds = ((xmin, xmax), (ymin, ymax))\n",
    "minimum = minimize(objective, x0, bounds=bnds)"
   ]
  },
  {
   "cell_type": "code",
   "execution_count": 7,
   "metadata": {},
   "outputs": [
    {
     "name": "stdout",
     "output_type": "stream",
     "text": [
      "      fun: 2.068032093839601e-12\n",
      " hess_inv: <2x2 LbfgsInvHessProduct with dtype=float64>\n",
      "      jac: array([-1.55968975e-06,  9.89836269e-06])\n",
      "  message: b'CONVERGENCE: NORM_OF_PROJECTED_GRADIENT_<=_PGTOL'\n",
      "     nfev: 60\n",
      "      nit: 14\n",
      "     njev: 20\n",
      "   status: 0\n",
      "  success: True\n",
      "        x: array([3.00000257, 0.50000085])\n"
     ]
    }
   ],
   "source": [
    "print(minimum)\n"
   ]
  },
  {
   "cell_type": "code",
   "execution_count": 8,
   "metadata": {},
   "outputs": [
    {
     "name": "stdout",
     "output_type": "stream",
     "text": [
      "The answer, [3.00000257 0.50000085], is very close to the optimum as we know it, which is [3.0, 0.5]\n",
      "The value of the objective for [3.0, 0.5] is 0.0\n"
     ]
    }
   ],
   "source": [
    "real_min = [3.0, 0.5]\n",
    "print (f'The answer, {minimum.x}, is very close to the optimum as we know it, which is {real_min}') \n",
    "print (f'The value of the objective for {real_min} is {objective(real_min)}')"
   ]
  },
  {
   "cell_type": "code",
   "execution_count": 9,
   "metadata": {},
   "outputs": [],
   "source": [
    "# fix random seed for reproducibility\n",
    "np.random.seed(5)"
   ]
  },
  {
   "cell_type": "code",
   "execution_count": 10,
   "metadata": {},
   "outputs": [
    {
     "data": {
      "text/plain": [
       "((60000, 28, 28), (60000,))"
      ]
     },
     "execution_count": 10,
     "metadata": {},
     "output_type": "execute_result"
    }
   ],
   "source": [
    "mnist = keras.datasets.mnist\n",
    "(x_train, y_train),(x_test, y_test) = mnist.load_data()\n",
    "x_train.shape, y_train.shape"
   ]
  },
  {
   "cell_type": "code",
   "execution_count": 11,
   "metadata": {},
   "outputs": [
    {
     "data": {
      "image/png": "[encoded data removed]",
      "text/plain": [
       "<Figure size 720x720 with 10 Axes>"
      ]
     },
     "metadata": {},
     "output_type": "display_data"
    }
   ],
   "source": [
    "plt.figure(figsize=(10,10))\n",
    "for i in range(10):\n",
    "    plt.subplot(5,5,i+1)\n",
    "    plt.xticks([])\n",
    "    plt.yticks([])\n",
    "    plt.grid(False)\n",
    "    plt.imshow(x_train[i], cmap=plt.cm.binary)\n",
    "    plt.xlabel(y_train[i])"
   ]
  },
  {
   "cell_type": "code",
   "execution_count": 12,
   "metadata": {},
   "outputs": [
    {
     "name": "stdout",
     "output_type": "stream",
     "text": [
      "We have 60000 train samples\n",
      "We have 10000 test samples\n"
     ]
    }
   ],
   "source": [
    "print(f'We have {x_train.shape[0]} train samples')\n",
    "print(f'We have {x_test.shape[0]} test samples')"
   ]
  },
  {
   "cell_type": "code",
   "execution_count": 13,
   "metadata": {},
   "outputs": [
    {
     "data": {
      "text/plain": [
       "784"
      ]
     },
     "execution_count": 13,
     "metadata": {},
     "output_type": "execute_result"
    }
   ],
   "source": [
    "# normalize the data\n",
    "x_train, x_test = x_train / 255.0, x_test / 255.0\n",
    "\n",
    "# reshape the data into 1D vectors\n",
    "x_train = x_train.reshape(60000, 784)\n",
    "x_test = x_test.reshape(10000, 784)\n",
    "\n",
    "num_classes = 10\n",
    "\n",
    "# Check the column length\n",
    "x_train.shape[1]"
   ]
  },
  {
   "cell_type": "code",
   "execution_count": 14,
   "metadata": {},
   "outputs": [],
   "source": [
    "# Convert class vectors to binary class matrices\n",
    "y_train = keras.utils.to_categorical(y_train, num_classes)\n",
    "y_test = keras.utils.to_categorical(y_test, num_classes)"
   ]
  },
  {
   "cell_type": "code",
   "execution_count": 15,
   "metadata": {},
   "outputs": [
    {
     "data": {
      "text/plain": [
       "array([0., 0., 0., 0., 0., 1., 0., 0., 0., 0.], dtype=float32)"
      ]
     },
     "execution_count": 15,
     "metadata": {},
     "output_type": "execute_result"
    }
   ],
   "source": [
    "y_train[0]"
   ]
  },
  {
   "cell_type": "code",
   "execution_count": 16,
   "metadata": {},
   "outputs": [],
   "source": [
    "epochs=60\n",
    "learning_rate = 0.1\n",
    "decay_rate = learning_rate / epochs\n",
    "momentum = 0.8\n",
    "\n",
    "sgd = SGD(lr=learning_rate, momentum=momentum, decay=decay_rate, nesterov=False)"
   ]
  },
  {
   "cell_type": "code",
   "execution_count": 17,
   "metadata": {},
   "outputs": [],
   "source": [
    "# build the model\n",
    "input_dim = x_train.shape[1]\n",
    "\n",
    "lr_model = Sequential()\n",
    "lr_model.add(Dense(64, activation=tf.nn.relu, kernel_initializer='uniform', input_dim = input_dim)) \n",
    "lr_model.add(Dropout(0.1))\n",
    "lr_model.add(Dense(64, kernel_initializer='uniform', activation=tf.nn.relu))\n",
    "lr_model.add(Dense(num_classes, kernel_initializer='uniform', activation=tf.nn.softmax))\n",
    "\n",
    "# compile the model\n",
    "lr_model.compile(loss='categorical_crossentropy',\n",
    "              optimizer=sgd,\n",
    "              metrics=['acc'])"
   ]
  },
  {
   "cell_type": "code",
   "execution_count": 18,
   "metadata": {},
   "outputs": [
    {
     "name": "stdout",
     "output_type": "stream",
     "text": [
      "Train on 60000 samples, validate on 10000 samples\n",
      "Epoch 1/60\n",
      "60000/60000 [==============================] - 6s 101us/step - loss: 0.3180 - acc: 0.9045 - val_loss: 0.1511 - val_acc: 0.9544\n",
      "Epoch 2/60\n",
      "60000/60000 [==============================] - 6s 98us/step - loss: 0.1546 - acc: 0.9532 - val_loss: 0.1229 - val_acc: 0.9631\n",
      "Epoch 3/60\n",
      "60000/60000 [==============================] - 6s 98us/step - loss: 0.1299 - acc: 0.9601 - val_loss: 0.1174 - val_acc: 0.9644\n",
      "Epoch 4/60\n",
      "60000/60000 [==============================] - 6s 98us/step - loss: 0.1199 - acc: 0.9629 - val_loss: 0.1118 - val_acc: 0.9658\n",
      "Epoch 5/60\n",
      "60000/60000 [==============================] - 6s 98us/step - loss: 0.1109 - acc: 0.9665 - val_loss: 0.1072 - val_acc: 0.9675\n",
      "Epoch 6/60\n",
      "60000/60000 [==============================] - 6s 99us/step - loss: 0.1068 - acc: 0.9667 - val_loss: 0.1036 - val_acc: 0.9684\n",
      "Epoch 7/60\n",
      "60000/60000 [==============================] - 6s 99us/step - loss: 0.1016 - acc: 0.9687 - val_loss: 0.1048 - val_acc: 0.9683\n",
      "Epoch 8/60\n",
      "60000/60000 [==============================] - 6s 99us/step - loss: 0.0983 - acc: 0.9702 - val_loss: 0.1047 - val_acc: 0.9688\n",
      "Epoch 9/60\n",
      "60000/60000 [==============================] - 6s 99us/step - loss: 0.0958 - acc: 0.9704 - val_loss: 0.1016 - val_acc: 0.9696\n",
      "Epoch 10/60\n",
      "60000/60000 [==============================] - 6s 98us/step - loss: 0.0932 - acc: 0.9711 - val_loss: 0.0999 - val_acc: 0.9701\n",
      "Epoch 11/60\n",
      "60000/60000 [==============================] - 6s 99us/step - loss: 0.0921 - acc: 0.9715 - val_loss: 0.0990 - val_acc: 0.9699\n",
      "Epoch 12/60\n",
      "60000/60000 [==============================] - 6s 99us/step - loss: 0.0921 - acc: 0.9716 - val_loss: 0.0991 - val_acc: 0.9702\n",
      "Epoch 13/60\n",
      "60000/60000 [==============================] - 6s 99us/step - loss: 0.0892 - acc: 0.9727 - val_loss: 0.0991 - val_acc: 0.9694\n",
      "Epoch 14/60\n",
      "60000/60000 [==============================] - 6s 99us/step - loss: 0.0895 - acc: 0.9732 - val_loss: 0.0982 - val_acc: 0.9706\n",
      "Epoch 15/60\n",
      "60000/60000 [==============================] - 6s 98us/step - loss: 0.0864 - acc: 0.9737 - val_loss: 0.0981 - val_acc: 0.9699\n",
      "Epoch 16/60\n",
      "60000/60000 [==============================] - 6s 98us/step - loss: 0.0873 - acc: 0.9730 - val_loss: 0.0974 - val_acc: 0.9703\n",
      "Epoch 17/60\n",
      "60000/60000 [==============================] - 6s 99us/step - loss: 0.0857 - acc: 0.9735 - val_loss: 0.0981 - val_acc: 0.9700\n",
      "Epoch 18/60\n",
      "60000/60000 [==============================] - 6s 99us/step - loss: 0.0838 - acc: 0.9741 - val_loss: 0.0971 - val_acc: 0.9699\n",
      "Epoch 19/60\n",
      "60000/60000 [==============================] - 6s 100us/step - loss: 0.0825 - acc: 0.9752 - val_loss: 0.0963 - val_acc: 0.9706\n",
      "Epoch 20/60\n",
      "60000/60000 [==============================] - 6s 100us/step - loss: 0.0837 - acc: 0.9747 - val_loss: 0.0973 - val_acc: 0.9705\n",
      "Epoch 21/60\n",
      "60000/60000 [==============================] - 6s 99us/step - loss: 0.0814 - acc: 0.9751 - val_loss: 0.0960 - val_acc: 0.9705\n",
      "Epoch 22/60\n",
      "60000/60000 [==============================] - 6s 99us/step - loss: 0.0819 - acc: 0.9751 - val_loss: 0.0962 - val_acc: 0.9710\n",
      "Epoch 23/60\n",
      "60000/60000 [==============================] - 6s 99us/step - loss: 0.0808 - acc: 0.9753 - val_loss: 0.0956 - val_acc: 0.9706\n",
      "Epoch 24/60\n",
      "60000/60000 [==============================] - 6s 100us/step - loss: 0.0799 - acc: 0.9761 - val_loss: 0.0962 - val_acc: 0.9710\n",
      "Epoch 25/60\n",
      "60000/60000 [==============================] - 6s 99us/step - loss: 0.0802 - acc: 0.9760 - val_loss: 0.0956 - val_acc: 0.9703\n",
      "Epoch 26/60\n",
      "60000/60000 [==============================] - 6s 99us/step - loss: 0.0791 - acc: 0.9761 - val_loss: 0.0958 - val_acc: 0.9711\n",
      "Epoch 27/60\n",
      "60000/60000 [==============================] - 6s 98us/step - loss: 0.0779 - acc: 0.9757 - val_loss: 0.0956 - val_acc: 0.9711\n",
      "Epoch 28/60\n",
      "60000/60000 [==============================] - 6s 99us/step - loss: 0.0781 - acc: 0.9765 - val_loss: 0.0960 - val_acc: 0.9705\n",
      "Epoch 29/60\n",
      "60000/60000 [==============================] - 6s 99us/step - loss: 0.0780 - acc: 0.9758 - val_loss: 0.0957 - val_acc: 0.9707\n",
      "Epoch 30/60\n",
      "60000/60000 [==============================] - 6s 99us/step - loss: 0.0777 - acc: 0.9759 - val_loss: 0.0956 - val_acc: 0.9708\n",
      "Epoch 31/60\n",
      "60000/60000 [==============================] - 6s 99us/step - loss: 0.0788 - acc: 0.9761 - val_loss: 0.0952 - val_acc: 0.9714\n",
      "Epoch 32/60\n",
      "60000/60000 [==============================] - 6s 98us/step - loss: 0.0764 - acc: 0.9765 - val_loss: 0.0952 - val_acc: 0.9713\n",
      "Epoch 33/60\n",
      "60000/60000 [==============================] - 6s 99us/step - loss: 0.0767 - acc: 0.9763 - val_loss: 0.0952 - val_acc: 0.9715\n",
      "Epoch 34/60\n",
      "60000/60000 [==============================] - 6s 98us/step - loss: 0.0747 - acc: 0.9773 - val_loss: 0.0955 - val_acc: 0.9713\n",
      "Epoch 35/60\n",
      "60000/60000 [==============================] - 6s 99us/step - loss: 0.0765 - acc: 0.9763 - val_loss: 0.0948 - val_acc: 0.9708\n",
      "Epoch 36/60\n",
      "60000/60000 [==============================] - 6s 100us/step - loss: 0.0757 - acc: 0.9771 - val_loss: 0.0946 - val_acc: 0.9713\n",
      "Epoch 37/60\n",
      "60000/60000 [==============================] - 6s 99us/step - loss: 0.0750 - acc: 0.9772 - val_loss: 0.0942 - val_acc: 0.9715\n",
      "Epoch 38/60\n",
      "60000/60000 [==============================] - 6s 100us/step - loss: 0.0745 - acc: 0.9768 - val_loss: 0.0945 - val_acc: 0.9715\n",
      "Epoch 39/60\n",
      "60000/60000 [==============================] - 6s 100us/step - loss: 0.0747 - acc: 0.9776 - val_loss: 0.0953 - val_acc: 0.9713\n",
      "Epoch 40/60\n",
      "60000/60000 [==============================] - 6s 108us/step - loss: 0.0759 - acc: 0.9768 - val_loss: 0.0952 - val_acc: 0.9716\n",
      "Epoch 41/60\n",
      "60000/60000 [==============================] - 7s 118us/step - loss: 0.0748 - acc: 0.9774 - val_loss: 0.0945 - val_acc: 0.9715\n",
      "Epoch 42/60\n",
      "60000/60000 [==============================] - 7s 110us/step - loss: 0.0733 - acc: 0.9780 - val_loss: 0.0947 - val_acc: 0.9714\n",
      "Epoch 43/60\n",
      "60000/60000 [==============================] - 6s 108us/step - loss: 0.0736 - acc: 0.9771 - val_loss: 0.0943 - val_acc: 0.9716\n",
      "Epoch 44/60\n",
      "60000/60000 [==============================] - 6s 106us/step - loss: 0.0739 - acc: 0.9769 - val_loss: 0.0939 - val_acc: 0.9717\n",
      "Epoch 45/60\n",
      "60000/60000 [==============================] - 6s 106us/step - loss: 0.0730 - acc: 0.9773 - val_loss: 0.0942 - val_acc: 0.9717\n",
      "Epoch 46/60\n",
      "60000/60000 [==============================] - 7s 110us/step - loss: 0.0737 - acc: 0.9775 - val_loss: 0.0937 - val_acc: 0.9723\n",
      "Epoch 47/60\n",
      "60000/60000 [==============================] - 6s 102us/step - loss: 0.0735 - acc: 0.9772 - val_loss: 0.0932 - val_acc: 0.9719\n",
      "Epoch 48/60\n",
      "60000/60000 [==============================] - 6s 104us/step - loss: 0.0724 - acc: 0.9777 - val_loss: 0.0940 - val_acc: 0.9722\n",
      "Epoch 49/60\n",
      "60000/60000 [==============================] - 6s 101us/step - loss: 0.0710 - acc: 0.9779 - val_loss: 0.0940 - val_acc: 0.9719\n",
      "Epoch 50/60\n",
      "60000/60000 [==============================] - 6s 101us/step - loss: 0.0733 - acc: 0.9778 - val_loss: 0.0941 - val_acc: 0.9717\n",
      "Epoch 51/60\n",
      "60000/60000 [==============================] - 6s 104us/step - loss: 0.0725 - acc: 0.9780 - val_loss: 0.0938 - val_acc: 0.9719\n",
      "Epoch 52/60\n",
      "60000/60000 [==============================] - 6s 100us/step - loss: 0.0727 - acc: 0.9778 - val_loss: 0.0941 - val_acc: 0.9720\n",
      "Epoch 53/60\n",
      "60000/60000 [==============================] - 6s 101us/step - loss: 0.0726 - acc: 0.9775 - val_loss: 0.0935 - val_acc: 0.9720\n",
      "Epoch 54/60\n",
      "60000/60000 [==============================] - 6s 101us/step - loss: 0.0718 - acc: 0.9781 - val_loss: 0.0936 - val_acc: 0.9719\n",
      "Epoch 55/60\n",
      "60000/60000 [==============================] - 6s 102us/step - loss: 0.0720 - acc: 0.9782 - val_loss: 0.0937 - val_acc: 0.9717\n",
      "Epoch 56/60\n",
      "60000/60000 [==============================] - 6s 106us/step - loss: 0.0715 - acc: 0.9789 - val_loss: 0.0931 - val_acc: 0.9717\n",
      "Epoch 57/60\n",
      "60000/60000 [==============================] - 6s 104us/step - loss: 0.0720 - acc: 0.9778 - val_loss: 0.0937 - val_acc: 0.9723\n",
      "Epoch 58/60\n",
      "60000/60000 [==============================] - 6s 102us/step - loss: 0.0729 - acc: 0.9774 - val_loss: 0.0932 - val_acc: 0.9719\n",
      "Epoch 59/60\n",
      "60000/60000 [==============================] - 6s 102us/step - loss: 0.0706 - acc: 0.9788 - val_loss: 0.0931 - val_acc: 0.9718\n"
     ]
    },
    {
     "name": "stdout",
     "output_type": "stream",
     "text": [
      "Epoch 60/60\n",
      "60000/60000 [==============================] - 6s 104us/step - loss: 0.0700 - acc: 0.9782 - val_loss: 0.0930 - val_acc: 0.9720\n",
      "Wall time: 6min 3s\n"
     ]
    }
   ],
   "source": [
    "%%time\n",
    "# Fit the model\n",
    "batch_size = int(input_dim/100)\n",
    "\n",
    "lr_model_history = lr_model.fit(x_train, y_train,\n",
    "                    batch_size=batch_size,\n",
    "                    epochs=epochs,\n",
    "                    verbose=1,\n",
    "                    validation_data=(x_test, y_test))"
   ]
  },
  {
   "cell_type": "code",
   "execution_count": 19,
   "metadata": {},
   "outputs": [
    {
     "data": {
      "image/png": "[encoded data removed]",
      "text/plain": [
       "<Figure size 720x432 with 1 Axes>"
      ]
     },
     "metadata": {
      "needs_background": "light"
     },
     "output_type": "display_data"
    }
   ],
   "source": [
    "fig, ax = plt.subplots(1, 1, figsize=(10,6))\n",
    "ax.plot(np.sqrt(lr_model_history.history['loss']), 'r', label='train')\n",
    "ax.plot(np.sqrt(lr_model_history.history['val_loss']), 'b' ,label='val')\n",
    "ax.set_xlabel(r'Epoch', fontsize=20)\n",
    "ax.set_ylabel(r'Loss', fontsize=20)\n",
    "ax.legend()\n",
    "ax.tick_params(labelsize=20)"
   ]
  },
  {
   "cell_type": "code",
   "execution_count": 20,
   "metadata": {},
   "outputs": [
    {
     "data": {
      "image/png": "[encoded data removed]",
      "text/plain": [
       "<Figure size 720x432 with 1 Axes>"
      ]
     },
     "metadata": {
      "needs_background": "light"
     },
     "output_type": "display_data"
    }
   ],
   "source": [
    "fig, ax = plt.subplots(1, 1, figsize=(10,6))\n",
    "ax.plot(np.sqrt(lr_model_history.history['acc']), 'r', label='train')\n",
    "ax.plot(np.sqrt(lr_model_history.history['val_acc']), 'b' ,label='val')\n",
    "ax.set_xlabel(r'Epoch', fontsize=20)\n",
    "ax.set_ylabel(r'Accuracy', fontsize=20)\n",
    "ax.legend()\n",
    "ax.tick_params(labelsize=20)"
   ]
  },
  {
   "cell_type": "code",
   "execution_count": 21,
   "metadata": {},
   "outputs": [],
   "source": [
    "# solution\n",
    "epochs = 60\n",
    "learning_rate = 0.1 # initial learning rate\n",
    "decay_rate = 0.1\n",
    "momentum = 0.8\n",
    "\n",
    "# define the optimizer function\n",
    "sgd = SGD(lr=learning_rate, momentum=momentum, decay=decay_rate, nesterov=False)"
   ]
  },
  {
   "cell_type": "code",
   "execution_count": 22,
   "metadata": {},
   "outputs": [],
   "source": [
    "input_dim = x_train.shape[1]\n",
    "num_classes = 10\n",
    "batch_size = 196\n",
    "\n",
    "# build the model\n",
    "exponential_decay_model = Sequential()\n",
    "exponential_decay_model.add(Dense(64, activation=tf.nn.relu, kernel_initializer='uniform', input_dim = input_dim))\n",
    "exponential_decay_model.add(Dropout(0.1))\n",
    "exponential_decay_model.add(Dense(64, kernel_initializer='uniform', activation=tf.nn.relu))\n",
    "exponential_decay_model.add(Dense(num_classes, kernel_initializer='uniform', activation=tf.nn.softmax))\n",
    "\n",
    "# compile the model\n",
    "exponential_decay_model.compile(loss='categorical_crossentropy', \n",
    "                                optimizer=sgd, \n",
    "                                metrics=['acc'])"
   ]
  },
  {
   "cell_type": "code",
   "execution_count": 23,
   "metadata": {},
   "outputs": [],
   "source": [
    "# define the learning rate change \n",
    "def exp_decay(epoch):\n",
    "    lrate = learning_rate * np.exp(-decay_rate*epoch)\n",
    "    return lrate"
   ]
  },
  {
   "cell_type": "code",
   "execution_count": 24,
   "metadata": {},
   "outputs": [
    {
     "name": "stdout",
     "output_type": "stream",
     "text": [
      "Train on 60000 samples, validate on 10000 samples\n",
      "Epoch 1/60\n",
      "60000/60000 [==============================] - 1s 13us/step - loss: 1.9824 - acc: 0.3901 - val_loss: 1.4748 - val_acc: 0.5880\n",
      "Epoch 2/60\n",
      "60000/60000 [==============================] - 1s 12us/step - loss: 1.2278 - acc: 0.6402 - val_loss: 1.0036 - val_acc: 0.7197\n",
      "Epoch 3/60\n",
      "60000/60000 [==============================] - 1s 11us/step - loss: 0.9693 - acc: 0.7166 - val_loss: 0.8513 - val_acc: 0.7634\n",
      "Epoch 4/60\n",
      "60000/60000 [==============================] - 1s 12us/step - loss: 0.8633 - acc: 0.7470 - val_loss: 0.7737 - val_acc: 0.7879\n",
      "Epoch 5/60\n",
      "60000/60000 [==============================] - 1s 11us/step - loss: 0.8050 - acc: 0.7623 - val_loss: 0.7273 - val_acc: 0.7983\n",
      "Epoch 6/60\n",
      "60000/60000 [==============================] - 1s 11us/step - loss: 0.7692 - acc: 0.7691 - val_loss: 0.6974 - val_acc: 0.8046\n",
      "Epoch 7/60\n",
      "60000/60000 [==============================] - 1s 11us/step - loss: 0.7473 - acc: 0.7755 - val_loss: 0.6772 - val_acc: 0.8105\n",
      "Epoch 8/60\n",
      "60000/60000 [==============================] - 1s 11us/step - loss: 0.7295 - acc: 0.7800 - val_loss: 0.6626 - val_acc: 0.8133\n",
      "Epoch 9/60\n",
      "60000/60000 [==============================] - 1s 11us/step - loss: 0.7174 - acc: 0.7851 - val_loss: 0.6518 - val_acc: 0.8158\n",
      "Epoch 10/60\n",
      "60000/60000 [==============================] - 1s 11us/step - loss: 0.7102 - acc: 0.7847 - val_loss: 0.6432 - val_acc: 0.8176\n",
      "Epoch 11/60\n",
      "60000/60000 [==============================] - 1s 11us/step - loss: 0.7014 - acc: 0.7868 - val_loss: 0.6367 - val_acc: 0.8188\n",
      "Epoch 12/60\n",
      "60000/60000 [==============================] - 1s 11us/step - loss: 0.6969 - acc: 0.7904 - val_loss: 0.6315 - val_acc: 0.8191\n",
      "Epoch 13/60\n",
      "60000/60000 [==============================] - 1s 11us/step - loss: 0.6912 - acc: 0.7894 - val_loss: 0.6272 - val_acc: 0.8202\n",
      "Epoch 14/60\n",
      "60000/60000 [==============================] - 1s 11us/step - loss: 0.6884 - acc: 0.7904 - val_loss: 0.6237 - val_acc: 0.8204\n",
      "Epoch 15/60\n",
      "60000/60000 [==============================] - 1s 12us/step - loss: 0.6852 - acc: 0.7925 - val_loss: 0.6208 - val_acc: 0.8210\n",
      "Epoch 16/60\n",
      "60000/60000 [==============================] - 1s 12us/step - loss: 0.6797 - acc: 0.7941 - val_loss: 0.6183 - val_acc: 0.8210\n",
      "Epoch 17/60\n",
      "60000/60000 [==============================] - 1s 12us/step - loss: 0.6795 - acc: 0.7953 - val_loss: 0.6163 - val_acc: 0.8214\n",
      "Epoch 18/60\n",
      "60000/60000 [==============================] - 1s 12us/step - loss: 0.6787 - acc: 0.7949 - val_loss: 0.6146 - val_acc: 0.8218\n",
      "Epoch 19/60\n",
      "60000/60000 [==============================] - 1s 12us/step - loss: 0.6755 - acc: 0.7962 - val_loss: 0.6132 - val_acc: 0.8227\n",
      "Epoch 20/60\n",
      "60000/60000 [==============================] - 1s 12us/step - loss: 0.6762 - acc: 0.7944 - val_loss: 0.6120 - val_acc: 0.8236\n",
      "Epoch 21/60\n",
      "60000/60000 [==============================] - 1s 12us/step - loss: 0.6739 - acc: 0.7963 - val_loss: 0.6110 - val_acc: 0.8240\n",
      "Epoch 22/60\n",
      "60000/60000 [==============================] - 1s 13us/step - loss: 0.6708 - acc: 0.7970 - val_loss: 0.6100 - val_acc: 0.8244\n",
      "Epoch 23/60\n",
      "60000/60000 [==============================] - 1s 13us/step - loss: 0.6713 - acc: 0.7971 - val_loss: 0.6093 - val_acc: 0.8249\n",
      "Epoch 24/60\n",
      "60000/60000 [==============================] - 1s 12us/step - loss: 0.6695 - acc: 0.7985 - val_loss: 0.6086 - val_acc: 0.8249\n",
      "Epoch 25/60\n",
      "60000/60000 [==============================] - 1s 12us/step - loss: 0.6715 - acc: 0.7974 - val_loss: 0.6080 - val_acc: 0.8253\n",
      "Epoch 26/60\n",
      "60000/60000 [==============================] - 1s 12us/step - loss: 0.6681 - acc: 0.7977 - val_loss: 0.6075 - val_acc: 0.8252\n",
      "Epoch 27/60\n",
      "60000/60000 [==============================] - 1s 12us/step - loss: 0.6694 - acc: 0.7985 - val_loss: 0.6071 - val_acc: 0.8253\n",
      "Epoch 28/60\n",
      "60000/60000 [==============================] - 1s 12us/step - loss: 0.6688 - acc: 0.7976 - val_loss: 0.6067 - val_acc: 0.8254\n",
      "Epoch 29/60\n",
      "60000/60000 [==============================] - 1s 12us/step - loss: 0.6673 - acc: 0.7982 - val_loss: 0.6064 - val_acc: 0.8255\n",
      "Epoch 30/60\n",
      "60000/60000 [==============================] - 1s 12us/step - loss: 0.6678 - acc: 0.7993 - val_loss: 0.6061 - val_acc: 0.8254\n",
      "Epoch 31/60\n",
      "60000/60000 [==============================] - 1s 12us/step - loss: 0.6687 - acc: 0.7970 - val_loss: 0.6058 - val_acc: 0.8254\n",
      "Epoch 32/60\n",
      "60000/60000 [==============================] - 1s 12us/step - loss: 0.6675 - acc: 0.7987 - val_loss: 0.6056 - val_acc: 0.8256\n",
      "Epoch 33/60\n",
      "60000/60000 [==============================] - 1s 12us/step - loss: 0.6687 - acc: 0.7981 - val_loss: 0.6054 - val_acc: 0.8257\n",
      "Epoch 34/60\n",
      "60000/60000 [==============================] - 1s 12us/step - loss: 0.6667 - acc: 0.7982 - val_loss: 0.6053 - val_acc: 0.8256\n",
      "Epoch 35/60\n",
      "60000/60000 [==============================] - 1s 12us/step - loss: 0.6681 - acc: 0.7988 - val_loss: 0.6051 - val_acc: 0.8256\n",
      "Epoch 36/60\n",
      "60000/60000 [==============================] - 1s 12us/step - loss: 0.6654 - acc: 0.7990 - val_loss: 0.6050 - val_acc: 0.8256\n",
      "Epoch 37/60\n",
      "60000/60000 [==============================] - 1s 12us/step - loss: 0.6667 - acc: 0.7972 - val_loss: 0.6049 - val_acc: 0.8257\n",
      "Epoch 38/60\n",
      "60000/60000 [==============================] - 1s 12us/step - loss: 0.6669 - acc: 0.7975 - val_loss: 0.6048 - val_acc: 0.8257\n",
      "Epoch 39/60\n",
      "60000/60000 [==============================] - 1s 12us/step - loss: 0.6678 - acc: 0.7975 - val_loss: 0.6047 - val_acc: 0.8257\n",
      "Epoch 40/60\n",
      "60000/60000 [==============================] - 1s 12us/step - loss: 0.6665 - acc: 0.7979 - val_loss: 0.6046 - val_acc: 0.8257\n",
      "Epoch 41/60\n",
      "60000/60000 [==============================] - 1s 12us/step - loss: 0.6663 - acc: 0.7976 - val_loss: 0.6045 - val_acc: 0.8258\n",
      "Epoch 42/60\n",
      "60000/60000 [==============================] - 1s 12us/step - loss: 0.6666 - acc: 0.8000 - val_loss: 0.6045 - val_acc: 0.8257\n",
      "Epoch 43/60\n",
      "60000/60000 [==============================] - 1s 12us/step - loss: 0.6668 - acc: 0.7960 - val_loss: 0.6044 - val_acc: 0.8259\n",
      "Epoch 44/60\n",
      "60000/60000 [==============================] - 1s 12us/step - loss: 0.6671 - acc: 0.7981 - val_loss: 0.6044 - val_acc: 0.8258\n",
      "Epoch 45/60\n",
      "60000/60000 [==============================] - 1s 12us/step - loss: 0.6664 - acc: 0.7980 - val_loss: 0.6043 - val_acc: 0.8259\n",
      "Epoch 46/60\n",
      "60000/60000 [==============================] - 1s 12us/step - loss: 0.6685 - acc: 0.7977 - val_loss: 0.6043 - val_acc: 0.8259\n",
      "Epoch 47/60\n",
      "60000/60000 [==============================] - 1s 12us/step - loss: 0.6675 - acc: 0.7975 - val_loss: 0.6042 - val_acc: 0.8259\n",
      "Epoch 48/60\n",
      "60000/60000 [==============================] - 1s 12us/step - loss: 0.6657 - acc: 0.7976 - val_loss: 0.6042 - val_acc: 0.8259\n",
      "Epoch 49/60\n",
      "60000/60000 [==============================] - 1s 12us/step - loss: 0.6667 - acc: 0.7969 - val_loss: 0.6042 - val_acc: 0.8259\n",
      "Epoch 50/60\n",
      "60000/60000 [==============================] - 1s 12us/step - loss: 0.6689 - acc: 0.7972 - val_loss: 0.6042 - val_acc: 0.8259\n",
      "Epoch 51/60\n",
      "60000/60000 [==============================] - 1s 12us/step - loss: 0.6665 - acc: 0.7961 - val_loss: 0.6041 - val_acc: 0.8259\n",
      "Epoch 52/60\n",
      "60000/60000 [==============================] - 1s 12us/step - loss: 0.6657 - acc: 0.7986 - val_loss: 0.6041 - val_acc: 0.8259\n",
      "Epoch 53/60\n",
      "60000/60000 [==============================] - 1s 12us/step - loss: 0.6663 - acc: 0.7981 - val_loss: 0.6041 - val_acc: 0.8259\n",
      "Epoch 54/60\n",
      "60000/60000 [==============================] - 1s 12us/step - loss: 0.6645 - acc: 0.7986 - val_loss: 0.6041 - val_acc: 0.8259\n",
      "Epoch 55/60\n",
      "60000/60000 [==============================] - 1s 12us/step - loss: 0.6661 - acc: 0.7979 - val_loss: 0.6041 - val_acc: 0.8259\n",
      "Epoch 56/60\n",
      "60000/60000 [==============================] - 1s 12us/step - loss: 0.6655 - acc: 0.7989 - val_loss: 0.6041 - val_acc: 0.8259\n",
      "Epoch 57/60\n",
      "60000/60000 [==============================] - 1s 12us/step - loss: 0.6641 - acc: 0.7997 - val_loss: 0.6041 - val_acc: 0.8259\n",
      "Epoch 58/60\n",
      "60000/60000 [==============================] - 1s 12us/step - loss: 0.6652 - acc: 0.7979 - val_loss: 0.6041 - val_acc: 0.8259\n",
      "Epoch 59/60\n",
      "60000/60000 [==============================] - 1s 12us/step - loss: 0.6669 - acc: 0.7963 - val_loss: 0.6041 - val_acc: 0.8259\n",
      "Epoch 60/60\n"
     ]
    },
    {
     "name": "stdout",
     "output_type": "stream",
     "text": [
      "60000/60000 [==============================] - 1s 12us/step - loss: 0.6668 - acc: 0.7976 - val_loss: 0.6041 - val_acc: 0.8259\n"
     ]
    }
   ],
   "source": [
    "# learning schedule callback\n",
    "loss_history = History()\n",
    "lr_rate = LearningRateScheduler(exp_decay)\n",
    "callbacks_list = [loss_history, lr_rate]\n",
    "\n",
    "# you invoke the LearningRateScheduler during the .fit() phase\n",
    "exponential_decay_model_history = exponential_decay_model.fit(x_train, y_train,\n",
    "                                    batch_size=batch_size,\n",
    "                                    epochs=epochs,\n",
    "                                    callbacks=callbacks_list,\n",
    "                                    verbose=1,\n",
    "                                    validation_data=(x_test, y_test))"
   ]
  },
  {
   "cell_type": "code",
   "execution_count": 25,
   "metadata": {},
   "outputs": [],
   "source": [
    "# build the model\n",
    "input_dim = x_train.shape[1]\n",
    "\n",
    "model = Sequential()\n",
    "model.add(Dense(64, activation=tf.nn.relu, kernel_initializer='uniform', \n",
    "                input_dim = input_dim)) # fully-connected layer with 64 hidden units\n",
    "model.add(Dropout(0.1))\n",
    "model.add(Dense(64, kernel_initializer='uniform', activation=tf.nn.relu))\n",
    "model.add(Dense(num_classes, kernel_initializer='uniform', activation=tf.nn.softmax))\n",
    "\n",
    "# defining the parameters for RMSprop (I used the keras defaults here)\n",
    "rms = RMSprop(lr=0.001, rho=0.9, epsilon=None, decay=0.0)\n",
    "\n",
    "model.compile(loss='categorical_crossentropy',\n",
    "              optimizer=rms,\n",
    "              metrics=['acc'])"
   ]
  },
  {
   "cell_type": "code",
   "execution_count": 27,
   "metadata": {},
   "outputs": [
    {
     "ename": "ValueError",
     "evalue": "None values not supported.",
     "output_type": "error",
     "traceback": [
      "\u001b[1;31m---------------------------------------------------------------------------\u001b[0m",
      "\u001b[1;31mValueError\u001b[0m                                Traceback (most recent call last)",
      "\u001b[1;32m<timed exec>\u001b[0m in \u001b[0;36m<module>\u001b[1;34m\u001b[0m\n",
      "\u001b[1;32m~\\miniconda3\\envs\\tensorflow\\lib\\site-packages\\keras\\engine\\training.py\u001b[0m in \u001b[0;36mfit\u001b[1;34m(self, x, y, batch_size, epochs, verbose, callbacks, validation_split, validation_data, shuffle, class_weight, sample_weight, initial_epoch, steps_per_epoch, validation_steps, validation_freq, max_queue_size, workers, use_multiprocessing, **kwargs)\u001b[0m\n\u001b[0;32m   1211\u001b[0m         \u001b[1;32melse\u001b[0m\u001b[1;33m:\u001b[0m\u001b[1;33m\u001b[0m\u001b[1;33m\u001b[0m\u001b[0m\n\u001b[0;32m   1212\u001b[0m             \u001b[0mfit_inputs\u001b[0m \u001b[1;33m=\u001b[0m \u001b[0mx\u001b[0m \u001b[1;33m+\u001b[0m \u001b[0my\u001b[0m \u001b[1;33m+\u001b[0m \u001b[0msample_weights\u001b[0m\u001b[1;33m\u001b[0m\u001b[1;33m\u001b[0m\u001b[0m\n\u001b[1;32m-> 1213\u001b[1;33m         \u001b[0mself\u001b[0m\u001b[1;33m.\u001b[0m\u001b[0m_make_train_function\u001b[0m\u001b[1;33m(\u001b[0m\u001b[1;33m)\u001b[0m\u001b[1;33m\u001b[0m\u001b[1;33m\u001b[0m\u001b[0m\n\u001b[0m\u001b[0;32m   1214\u001b[0m         \u001b[0mfit_function\u001b[0m \u001b[1;33m=\u001b[0m \u001b[0mself\u001b[0m\u001b[1;33m.\u001b[0m\u001b[0mtrain_function\u001b[0m\u001b[1;33m\u001b[0m\u001b[1;33m\u001b[0m\u001b[0m\n\u001b[0;32m   1215\u001b[0m \u001b[1;33m\u001b[0m\u001b[0m\n",
      "\u001b[1;32m~\\miniconda3\\envs\\tensorflow\\lib\\site-packages\\keras\\engine\\training.py\u001b[0m in \u001b[0;36m_make_train_function\u001b[1;34m(self)\u001b[0m\n\u001b[0;32m    314\u001b[0m                     training_updates = self.optimizer.get_updates(\n\u001b[0;32m    315\u001b[0m                         \u001b[0mparams\u001b[0m\u001b[1;33m=\u001b[0m\u001b[0mself\u001b[0m\u001b[1;33m.\u001b[0m\u001b[0m_collected_trainable_weights\u001b[0m\u001b[1;33m,\u001b[0m\u001b[1;33m\u001b[0m\u001b[1;33m\u001b[0m\u001b[0m\n\u001b[1;32m--> 316\u001b[1;33m                         loss=self.total_loss)\n\u001b[0m\u001b[0;32m    317\u001b[0m                 \u001b[0mupdates\u001b[0m \u001b[1;33m=\u001b[0m \u001b[0mself\u001b[0m\u001b[1;33m.\u001b[0m\u001b[0mupdates\u001b[0m \u001b[1;33m+\u001b[0m \u001b[0mtraining_updates\u001b[0m\u001b[1;33m\u001b[0m\u001b[1;33m\u001b[0m\u001b[0m\n\u001b[0;32m    318\u001b[0m \u001b[1;33m\u001b[0m\u001b[0m\n",
      "\u001b[1;32m~\\miniconda3\\envs\\tensorflow\\lib\\site-packages\\keras\\legacy\\interfaces.py\u001b[0m in \u001b[0;36mwrapper\u001b[1;34m(*args, **kwargs)\u001b[0m\n\u001b[0;32m     89\u001b[0m                 warnings.warn('Update your `' + object_name + '` call to the ' +\n\u001b[0;32m     90\u001b[0m                               'Keras 2 API: ' + signature, stacklevel=2)\n\u001b[1;32m---> 91\u001b[1;33m             \u001b[1;32mreturn\u001b[0m \u001b[0mfunc\u001b[0m\u001b[1;33m(\u001b[0m\u001b[1;33m*\u001b[0m\u001b[0margs\u001b[0m\u001b[1;33m,\u001b[0m \u001b[1;33m**\u001b[0m\u001b[0mkwargs\u001b[0m\u001b[1;33m)\u001b[0m\u001b[1;33m\u001b[0m\u001b[1;33m\u001b[0m\u001b[0m\n\u001b[0m\u001b[0;32m     92\u001b[0m         \u001b[0mwrapper\u001b[0m\u001b[1;33m.\u001b[0m\u001b[0m_original_function\u001b[0m \u001b[1;33m=\u001b[0m \u001b[0mfunc\u001b[0m\u001b[1;33m\u001b[0m\u001b[1;33m\u001b[0m\u001b[0m\n\u001b[0;32m     93\u001b[0m         \u001b[1;32mreturn\u001b[0m \u001b[0mwrapper\u001b[0m\u001b[1;33m\u001b[0m\u001b[1;33m\u001b[0m\u001b[0m\n",
      "\u001b[1;32m~\\miniconda3\\envs\\tensorflow\\lib\\site-packages\\keras\\backend\\tensorflow_backend.py\u001b[0m in \u001b[0;36msymbolic_fn_wrapper\u001b[1;34m(*args, **kwargs)\u001b[0m\n\u001b[0;32m     73\u001b[0m         \u001b[1;32mif\u001b[0m \u001b[0m_SYMBOLIC_SCOPE\u001b[0m\u001b[1;33m.\u001b[0m\u001b[0mvalue\u001b[0m\u001b[1;33m:\u001b[0m\u001b[1;33m\u001b[0m\u001b[1;33m\u001b[0m\u001b[0m\n\u001b[0;32m     74\u001b[0m             \u001b[1;32mwith\u001b[0m \u001b[0mget_graph\u001b[0m\u001b[1;33m(\u001b[0m\u001b[1;33m)\u001b[0m\u001b[1;33m.\u001b[0m\u001b[0mas_default\u001b[0m\u001b[1;33m(\u001b[0m\u001b[1;33m)\u001b[0m\u001b[1;33m:\u001b[0m\u001b[1;33m\u001b[0m\u001b[1;33m\u001b[0m\u001b[0m\n\u001b[1;32m---> 75\u001b[1;33m                 \u001b[1;32mreturn\u001b[0m \u001b[0mfunc\u001b[0m\u001b[1;33m(\u001b[0m\u001b[1;33m*\u001b[0m\u001b[0margs\u001b[0m\u001b[1;33m,\u001b[0m \u001b[1;33m**\u001b[0m\u001b[0mkwargs\u001b[0m\u001b[1;33m)\u001b[0m\u001b[1;33m\u001b[0m\u001b[1;33m\u001b[0m\u001b[0m\n\u001b[0m\u001b[0;32m     76\u001b[0m         \u001b[1;32melse\u001b[0m\u001b[1;33m:\u001b[0m\u001b[1;33m\u001b[0m\u001b[1;33m\u001b[0m\u001b[0m\n\u001b[0;32m     77\u001b[0m             \u001b[1;32mreturn\u001b[0m \u001b[0mfunc\u001b[0m\u001b[1;33m(\u001b[0m\u001b[1;33m*\u001b[0m\u001b[0margs\u001b[0m\u001b[1;33m,\u001b[0m \u001b[1;33m**\u001b[0m\u001b[0mkwargs\u001b[0m\u001b[1;33m)\u001b[0m\u001b[1;33m\u001b[0m\u001b[1;33m\u001b[0m\u001b[0m\n",
      "\u001b[1;32m~\\miniconda3\\envs\\tensorflow\\lib\\site-packages\\keras\\optimizers.py\u001b[0m in \u001b[0;36mget_updates\u001b[1;34m(self, loss, params)\u001b[0m\n\u001b[0;32m    274\u001b[0m             \u001b[0mnew_a\u001b[0m \u001b[1;33m=\u001b[0m \u001b[0mself\u001b[0m\u001b[1;33m.\u001b[0m\u001b[0mrho\u001b[0m \u001b[1;33m*\u001b[0m \u001b[0ma\u001b[0m \u001b[1;33m+\u001b[0m \u001b[1;33m(\u001b[0m\u001b[1;36m1.\u001b[0m \u001b[1;33m-\u001b[0m \u001b[0mself\u001b[0m\u001b[1;33m.\u001b[0m\u001b[0mrho\u001b[0m\u001b[1;33m)\u001b[0m \u001b[1;33m*\u001b[0m \u001b[0mK\u001b[0m\u001b[1;33m.\u001b[0m\u001b[0msquare\u001b[0m\u001b[1;33m(\u001b[0m\u001b[0mg\u001b[0m\u001b[1;33m)\u001b[0m\u001b[1;33m\u001b[0m\u001b[1;33m\u001b[0m\u001b[0m\n\u001b[0;32m    275\u001b[0m             \u001b[0mself\u001b[0m\u001b[1;33m.\u001b[0m\u001b[0mupdates\u001b[0m\u001b[1;33m.\u001b[0m\u001b[0mappend\u001b[0m\u001b[1;33m(\u001b[0m\u001b[0mK\u001b[0m\u001b[1;33m.\u001b[0m\u001b[0mupdate\u001b[0m\u001b[1;33m(\u001b[0m\u001b[0ma\u001b[0m\u001b[1;33m,\u001b[0m \u001b[0mnew_a\u001b[0m\u001b[1;33m)\u001b[0m\u001b[1;33m)\u001b[0m\u001b[1;33m\u001b[0m\u001b[1;33m\u001b[0m\u001b[0m\n\u001b[1;32m--> 276\u001b[1;33m             \u001b[0mnew_p\u001b[0m \u001b[1;33m=\u001b[0m \u001b[0mp\u001b[0m \u001b[1;33m-\u001b[0m \u001b[0mlr\u001b[0m \u001b[1;33m*\u001b[0m \u001b[0mg\u001b[0m \u001b[1;33m/\u001b[0m \u001b[1;33m(\u001b[0m\u001b[0mK\u001b[0m\u001b[1;33m.\u001b[0m\u001b[0msqrt\u001b[0m\u001b[1;33m(\u001b[0m\u001b[0mnew_a\u001b[0m\u001b[1;33m)\u001b[0m \u001b[1;33m+\u001b[0m \u001b[0mself\u001b[0m\u001b[1;33m.\u001b[0m\u001b[0mepsilon\u001b[0m\u001b[1;33m)\u001b[0m\u001b[1;33m\u001b[0m\u001b[1;33m\u001b[0m\u001b[0m\n\u001b[0m\u001b[0;32m    277\u001b[0m \u001b[1;33m\u001b[0m\u001b[0m\n\u001b[0;32m    278\u001b[0m             \u001b[1;31m# Apply constraints.\u001b[0m\u001b[1;33m\u001b[0m\u001b[1;33m\u001b[0m\u001b[1;33m\u001b[0m\u001b[0m\n",
      "\u001b[1;32m~\\miniconda3\\envs\\tensorflow\\lib\\site-packages\\tensorflow_core\\python\\ops\\math_ops.py\u001b[0m in \u001b[0;36mbinary_op_wrapper\u001b[1;34m(x, y)\u001b[0m\n\u001b[0;32m    904\u001b[0m         \u001b[1;32mtry\u001b[0m\u001b[1;33m:\u001b[0m\u001b[1;33m\u001b[0m\u001b[1;33m\u001b[0m\u001b[0m\n\u001b[0;32m    905\u001b[0m           y = ops.convert_to_tensor_v2(\n\u001b[1;32m--> 906\u001b[1;33m               y, dtype_hint=x.dtype.base_dtype, name=\"y\")\n\u001b[0m\u001b[0;32m    907\u001b[0m         \u001b[1;32mexcept\u001b[0m \u001b[0mTypeError\u001b[0m\u001b[1;33m:\u001b[0m\u001b[1;33m\u001b[0m\u001b[1;33m\u001b[0m\u001b[0m\n\u001b[0;32m    908\u001b[0m           \u001b[1;31m# If the RHS is not a tensor, it might be a tensor aware object\u001b[0m\u001b[1;33m\u001b[0m\u001b[1;33m\u001b[0m\u001b[1;33m\u001b[0m\u001b[0m\n",
      "\u001b[1;32m~\\miniconda3\\envs\\tensorflow\\lib\\site-packages\\tensorflow_core\\python\\framework\\ops.py\u001b[0m in \u001b[0;36mconvert_to_tensor_v2\u001b[1;34m(value, dtype, dtype_hint, name)\u001b[0m\n\u001b[0;32m   1254\u001b[0m       \u001b[0mname\u001b[0m\u001b[1;33m=\u001b[0m\u001b[0mname\u001b[0m\u001b[1;33m,\u001b[0m\u001b[1;33m\u001b[0m\u001b[1;33m\u001b[0m\u001b[0m\n\u001b[0;32m   1255\u001b[0m       \u001b[0mpreferred_dtype\u001b[0m\u001b[1;33m=\u001b[0m\u001b[0mdtype_hint\u001b[0m\u001b[1;33m,\u001b[0m\u001b[1;33m\u001b[0m\u001b[1;33m\u001b[0m\u001b[0m\n\u001b[1;32m-> 1256\u001b[1;33m       as_ref=False)\n\u001b[0m\u001b[0;32m   1257\u001b[0m \u001b[1;33m\u001b[0m\u001b[0m\n\u001b[0;32m   1258\u001b[0m \u001b[1;33m\u001b[0m\u001b[0m\n",
      "\u001b[1;32m~\\miniconda3\\envs\\tensorflow\\lib\\site-packages\\tensorflow_core\\python\\framework\\ops.py\u001b[0m in \u001b[0;36mconvert_to_tensor\u001b[1;34m(value, dtype, name, as_ref, preferred_dtype, dtype_hint, ctx, accepted_result_types)\u001b[0m\n\u001b[0;32m   1312\u001b[0m \u001b[1;33m\u001b[0m\u001b[0m\n\u001b[0;32m   1313\u001b[0m     \u001b[1;32mif\u001b[0m \u001b[0mret\u001b[0m \u001b[1;32mis\u001b[0m \u001b[1;32mNone\u001b[0m\u001b[1;33m:\u001b[0m\u001b[1;33m\u001b[0m\u001b[1;33m\u001b[0m\u001b[0m\n\u001b[1;32m-> 1314\u001b[1;33m       \u001b[0mret\u001b[0m \u001b[1;33m=\u001b[0m \u001b[0mconversion_func\u001b[0m\u001b[1;33m(\u001b[0m\u001b[0mvalue\u001b[0m\u001b[1;33m,\u001b[0m \u001b[0mdtype\u001b[0m\u001b[1;33m=\u001b[0m\u001b[0mdtype\u001b[0m\u001b[1;33m,\u001b[0m \u001b[0mname\u001b[0m\u001b[1;33m=\u001b[0m\u001b[0mname\u001b[0m\u001b[1;33m,\u001b[0m \u001b[0mas_ref\u001b[0m\u001b[1;33m=\u001b[0m\u001b[0mas_ref\u001b[0m\u001b[1;33m)\u001b[0m\u001b[1;33m\u001b[0m\u001b[1;33m\u001b[0m\u001b[0m\n\u001b[0m\u001b[0;32m   1315\u001b[0m \u001b[1;33m\u001b[0m\u001b[0m\n\u001b[0;32m   1316\u001b[0m     \u001b[1;32mif\u001b[0m \u001b[0mret\u001b[0m \u001b[1;32mis\u001b[0m \u001b[0mNotImplemented\u001b[0m\u001b[1;33m:\u001b[0m\u001b[1;33m\u001b[0m\u001b[1;33m\u001b[0m\u001b[0m\n",
      "\u001b[1;32m~\\miniconda3\\envs\\tensorflow\\lib\\site-packages\\tensorflow_core\\python\\framework\\constant_op.py\u001b[0m in \u001b[0;36m_constant_tensor_conversion_function\u001b[1;34m(v, dtype, name, as_ref)\u001b[0m\n\u001b[0;32m    315\u001b[0m                                          as_ref=False):\n\u001b[0;32m    316\u001b[0m   \u001b[0m_\u001b[0m \u001b[1;33m=\u001b[0m \u001b[0mas_ref\u001b[0m\u001b[1;33m\u001b[0m\u001b[1;33m\u001b[0m\u001b[0m\n\u001b[1;32m--> 317\u001b[1;33m   \u001b[1;32mreturn\u001b[0m \u001b[0mconstant\u001b[0m\u001b[1;33m(\u001b[0m\u001b[0mv\u001b[0m\u001b[1;33m,\u001b[0m \u001b[0mdtype\u001b[0m\u001b[1;33m=\u001b[0m\u001b[0mdtype\u001b[0m\u001b[1;33m,\u001b[0m \u001b[0mname\u001b[0m\u001b[1;33m=\u001b[0m\u001b[0mname\u001b[0m\u001b[1;33m)\u001b[0m\u001b[1;33m\u001b[0m\u001b[1;33m\u001b[0m\u001b[0m\n\u001b[0m\u001b[0;32m    318\u001b[0m \u001b[1;33m\u001b[0m\u001b[0m\n\u001b[0;32m    319\u001b[0m \u001b[1;33m\u001b[0m\u001b[0m\n",
      "\u001b[1;32m~\\miniconda3\\envs\\tensorflow\\lib\\site-packages\\tensorflow_core\\python\\framework\\constant_op.py\u001b[0m in \u001b[0;36mconstant\u001b[1;34m(value, dtype, shape, name)\u001b[0m\n\u001b[0;32m    256\u001b[0m   \"\"\"\n\u001b[0;32m    257\u001b[0m   return _constant_impl(value, dtype, shape, name, verify_shape=False,\n\u001b[1;32m--> 258\u001b[1;33m                         allow_broadcast=True)\n\u001b[0m\u001b[0;32m    259\u001b[0m \u001b[1;33m\u001b[0m\u001b[0m\n\u001b[0;32m    260\u001b[0m \u001b[1;33m\u001b[0m\u001b[0m\n",
      "\u001b[1;32m~\\miniconda3\\envs\\tensorflow\\lib\\site-packages\\tensorflow_core\\python\\framework\\constant_op.py\u001b[0m in \u001b[0;36m_constant_impl\u001b[1;34m(value, dtype, shape, name, verify_shape, allow_broadcast)\u001b[0m\n\u001b[0;32m    294\u001b[0m       tensor_util.make_tensor_proto(\n\u001b[0;32m    295\u001b[0m           \u001b[0mvalue\u001b[0m\u001b[1;33m,\u001b[0m \u001b[0mdtype\u001b[0m\u001b[1;33m=\u001b[0m\u001b[0mdtype\u001b[0m\u001b[1;33m,\u001b[0m \u001b[0mshape\u001b[0m\u001b[1;33m=\u001b[0m\u001b[0mshape\u001b[0m\u001b[1;33m,\u001b[0m \u001b[0mverify_shape\u001b[0m\u001b[1;33m=\u001b[0m\u001b[0mverify_shape\u001b[0m\u001b[1;33m,\u001b[0m\u001b[1;33m\u001b[0m\u001b[1;33m\u001b[0m\u001b[0m\n\u001b[1;32m--> 296\u001b[1;33m           allow_broadcast=allow_broadcast))\n\u001b[0m\u001b[0;32m    297\u001b[0m   \u001b[0mdtype_value\u001b[0m \u001b[1;33m=\u001b[0m \u001b[0mattr_value_pb2\u001b[0m\u001b[1;33m.\u001b[0m\u001b[0mAttrValue\u001b[0m\u001b[1;33m(\u001b[0m\u001b[0mtype\u001b[0m\u001b[1;33m=\u001b[0m\u001b[0mtensor_value\u001b[0m\u001b[1;33m.\u001b[0m\u001b[0mtensor\u001b[0m\u001b[1;33m.\u001b[0m\u001b[0mdtype\u001b[0m\u001b[1;33m)\u001b[0m\u001b[1;33m\u001b[0m\u001b[1;33m\u001b[0m\u001b[0m\n\u001b[0;32m    298\u001b[0m   const_tensor = g._create_op_internal(  # pylint: disable=protected-access\n",
      "\u001b[1;32m~\\miniconda3\\envs\\tensorflow\\lib\\site-packages\\tensorflow_core\\python\\framework\\tensor_util.py\u001b[0m in \u001b[0;36mmake_tensor_proto\u001b[1;34m(values, dtype, shape, verify_shape, allow_broadcast)\u001b[0m\n\u001b[0;32m    437\u001b[0m   \u001b[1;32melse\u001b[0m\u001b[1;33m:\u001b[0m\u001b[1;33m\u001b[0m\u001b[1;33m\u001b[0m\u001b[0m\n\u001b[0;32m    438\u001b[0m     \u001b[1;32mif\u001b[0m \u001b[0mvalues\u001b[0m \u001b[1;32mis\u001b[0m \u001b[1;32mNone\u001b[0m\u001b[1;33m:\u001b[0m\u001b[1;33m\u001b[0m\u001b[1;33m\u001b[0m\u001b[0m\n\u001b[1;32m--> 439\u001b[1;33m       \u001b[1;32mraise\u001b[0m \u001b[0mValueError\u001b[0m\u001b[1;33m(\u001b[0m\u001b[1;34m\"None values not supported.\"\u001b[0m\u001b[1;33m)\u001b[0m\u001b[1;33m\u001b[0m\u001b[1;33m\u001b[0m\u001b[0m\n\u001b[0m\u001b[0;32m    440\u001b[0m     \u001b[1;31m# if dtype is provided, forces numpy array to be the type\u001b[0m\u001b[1;33m\u001b[0m\u001b[1;33m\u001b[0m\u001b[1;33m\u001b[0m\u001b[0m\n\u001b[0;32m    441\u001b[0m     \u001b[1;31m# provided if possible.\u001b[0m\u001b[1;33m\u001b[0m\u001b[1;33m\u001b[0m\u001b[1;33m\u001b[0m\u001b[0m\n",
      "\u001b[1;31mValueError\u001b[0m: None values not supported."
     ]
    }
   ],
   "source": [
    "%%time\n",
    "batch_size = input_dim\n",
    "epochs = 60\n",
    "\n",
    "model_history = model.fit(x_train, y_train, batch_size=batch_size, epochs=epochs, verbose=1, validation_data=(x_test, y_test))"
   ]
  },
  {
   "cell_type": "code",
   "execution_count": 28,
   "metadata": {},
   "outputs": [
    {
     "name": "stdout",
     "output_type": "stream",
     "text": [
      "Test loss: 2.3023273990631106\n",
      "Test accuracy: 0.0860000029206276\n"
     ]
    },
    {
     "ename": "NameError",
     "evalue": "name 'model_history' is not defined",
     "output_type": "error",
     "traceback": [
      "\u001b[1;31m---------------------------------------------------------------------------\u001b[0m",
      "\u001b[1;31mNameError\u001b[0m                                 Traceback (most recent call last)",
      "\u001b[1;32m<ipython-input-28-890019340d8b>\u001b[0m in \u001b[0;36m<module>\u001b[1;34m\u001b[0m\n\u001b[0;32m      4\u001b[0m \u001b[1;33m\u001b[0m\u001b[0m\n\u001b[0;32m      5\u001b[0m \u001b[0mfig\u001b[0m\u001b[1;33m,\u001b[0m \u001b[0max\u001b[0m \u001b[1;33m=\u001b[0m \u001b[0mplt\u001b[0m\u001b[1;33m.\u001b[0m\u001b[0msubplots\u001b[0m\u001b[1;33m(\u001b[0m\u001b[1;36m1\u001b[0m\u001b[1;33m,\u001b[0m \u001b[1;36m1\u001b[0m\u001b[1;33m,\u001b[0m \u001b[0mfigsize\u001b[0m\u001b[1;33m=\u001b[0m\u001b[1;33m(\u001b[0m\u001b[1;36m10\u001b[0m\u001b[1;33m,\u001b[0m\u001b[1;36m6\u001b[0m\u001b[1;33m)\u001b[0m\u001b[1;33m)\u001b[0m\u001b[1;33m\u001b[0m\u001b[1;33m\u001b[0m\u001b[0m\n\u001b[1;32m----> 6\u001b[1;33m \u001b[0max\u001b[0m\u001b[1;33m.\u001b[0m\u001b[0mplot\u001b[0m\u001b[1;33m(\u001b[0m\u001b[0mnp\u001b[0m\u001b[1;33m.\u001b[0m\u001b[0msqrt\u001b[0m\u001b[1;33m(\u001b[0m\u001b[0mmodel_history\u001b[0m\u001b[1;33m.\u001b[0m\u001b[0mhistory\u001b[0m\u001b[1;33m[\u001b[0m\u001b[1;34m'acc'\u001b[0m\u001b[1;33m]\u001b[0m\u001b[1;33m)\u001b[0m\u001b[1;33m,\u001b[0m \u001b[1;34m'r'\u001b[0m\u001b[1;33m,\u001b[0m \u001b[0mlabel\u001b[0m\u001b[1;33m=\u001b[0m\u001b[1;34m'train_acc'\u001b[0m\u001b[1;33m)\u001b[0m\u001b[1;33m\u001b[0m\u001b[1;33m\u001b[0m\u001b[0m\n\u001b[0m\u001b[0;32m      7\u001b[0m \u001b[0max\u001b[0m\u001b[1;33m.\u001b[0m\u001b[0mplot\u001b[0m\u001b[1;33m(\u001b[0m\u001b[0mnp\u001b[0m\u001b[1;33m.\u001b[0m\u001b[0msqrt\u001b[0m\u001b[1;33m(\u001b[0m\u001b[0mmodel_history\u001b[0m\u001b[1;33m.\u001b[0m\u001b[0mhistory\u001b[0m\u001b[1;33m[\u001b[0m\u001b[1;34m'val_acc'\u001b[0m\u001b[1;33m]\u001b[0m\u001b[1;33m)\u001b[0m\u001b[1;33m,\u001b[0m \u001b[1;34m'b'\u001b[0m \u001b[1;33m,\u001b[0m\u001b[0mlabel\u001b[0m\u001b[1;33m=\u001b[0m\u001b[1;34m'val_acc'\u001b[0m\u001b[1;33m)\u001b[0m\u001b[1;33m\u001b[0m\u001b[1;33m\u001b[0m\u001b[0m\n\u001b[0;32m      8\u001b[0m \u001b[0max\u001b[0m\u001b[1;33m.\u001b[0m\u001b[0mset_xlabel\u001b[0m\u001b[1;33m(\u001b[0m\u001b[1;34mr'Epoch'\u001b[0m\u001b[1;33m,\u001b[0m \u001b[0mfontsize\u001b[0m\u001b[1;33m=\u001b[0m\u001b[1;36m20\u001b[0m\u001b[1;33m)\u001b[0m\u001b[1;33m\u001b[0m\u001b[1;33m\u001b[0m\u001b[0m\n",
      "\u001b[1;31mNameError\u001b[0m: name 'model_history' is not defined"
     ]
    },
    {
     "data": {
      "image/png": "[encoded data removed]",
      "text/plain": [
       "<Figure size 720x432 with 1 Axes>"
      ]
     },
     "metadata": {
      "needs_background": "light"
     },
     "output_type": "display_data"
    }
   ],
   "source": [
    "score = model.evaluate(x_test, y_test, verbose=0)\n",
    "print('Test loss:', score[0])\n",
    "print('Test accuracy:', score[1])\n",
    "\n",
    "fig, ax = plt.subplots(1, 1, figsize=(10,6))\n",
    "ax.plot(np.sqrt(model_history.history['acc']), 'r', label='train_acc')\n",
    "ax.plot(np.sqrt(model_history.history['val_acc']), 'b' ,label='val_acc')\n",
    "ax.set_xlabel(r'Epoch', fontsize=20)\n",
    "ax.set_ylabel(r'Accuracy', fontsize=20)\n",
    "ax.legend()\n",
    "ax.tick_params(labelsize=20)\n",
    "\n",
    "fig, ax = plt.subplots(1, 1, figsize=(10,6))\n",
    "ax.plot(np.sqrt(model_history.history['loss']), 'r', label='train')\n",
    "ax.plot(np.sqrt(model_history.history['val_loss']), 'b' ,label='val')\n",
    "ax.set_xlabel(r'Epoch', fontsize=20)\n",
    "ax.set_ylabel(r'Loss', fontsize=20)\n",
    "ax.legend()\n",
    "ax.tick_params(labelsize=20)\n"
   ]
  },
  {
   "cell_type": "code",
   "execution_count": null,
   "metadata": {},
   "outputs": [],
   "source": [
    "import numpy\n",
    "from sklearn.model_selection import GridSearchCV\n",
    "from keras.wrappers.scikit_learn import KerasClassifier\n"
   ]
  },
  {
   "cell_type": "code",
   "execution_count": null,
   "metadata": {},
   "outputs": [],
   "source": [
    "# let's create a function that creates the model (required for KerasClassifier) \n",
    "# while accepting the hyperparameters we want to tune \n",
    "# we also pass some default values such as optimizer='rmsprop'\n",
    "def create_model(init_mode='uniform'):\n",
    "    # define model\n",
    "    model = Sequential()\n",
    "    model.add(Dense(64, kernel_initializer=init_mode, activation=tf.nn.relu, input_dim=784)) \n",
    "    model.add(Dropout(0.1))\n",
    "    model.add(Dense(64, kernel_initializer=init_mode, activation=tf.nn.relu))\n",
    "    model.add(Dense(10, kernel_initializer=init_mode, activation=tf.nn.softmax))\n",
    "    # compile model\n",
    "    model.compile(loss='categorical_crossentropy',\n",
    "              optimizer=RMSprop(),\n",
    "              metrics=['accuracy'])\n",
    "    return model\n"
   ]
  },
  {
   "cell_type": "code",
   "execution_count": null,
   "metadata": {},
   "outputs": [],
   "source": [
    "%%time\n",
    "seed = 7\n",
    "numpy.random.seed(seed)\n",
    "batch_size = 128\n",
    "epochs = 10\n",
    "\n",
    "model_CV = KerasClassifier(build_fn=create_model, epochs=epochs, \n",
    "                           batch_size=batch_size, verbose=1)\n",
    "# define the grid search parameters\n",
    "init_mode = ['uniform', 'lecun_uniform', 'normal', 'zero', \n",
    "             'glorot_normal', 'glorot_uniform', 'he_normal', 'he_uniform']\n",
    "\n",
    "param_grid = dict(init_mode=init_mode)\n",
    "grid = GridSearchCV(estimator=model_CV, param_grid=param_grid, n_jobs=-1, cv=3)\n",
    "grid_result = grid.fit(x_train, y_train)"
   ]
  },
  {
   "cell_type": "code",
   "execution_count": null,
   "metadata": {},
   "outputs": [],
   "source": [
    "# print results\n",
    "print(f'Best Accuracy for {grid_result.best_score_} using {grid_result.best_params_}')\n",
    "means = grid_result.cv_results_['mean_test_score']\n",
    "stds = grid_result.cv_results_['std_test_score']\n",
    "params = grid_result.cv_results_['params']\n",
    "for mean, stdev, param in zip(means, stds, params):\n",
    "    print(f' mean={mean:.4}, std={stdev:.4} using {param}')"
   ]
  },
  {
   "cell_type": "code",
   "execution_count": null,
   "metadata": {},
   "outputs": [],
   "source": [
    "from keras.models import model_from_json\n",
    "\n",
    "# serialize model to JSON\n",
    "model_json = model.to_json()\n",
    "\n",
    "with open(\"model.json\", \"w\") as json_file:\n",
    "    json_file.write(model_json)\n",
    "\n",
    "# save weights to HDF5\n",
    "model.save_weights(\"model.h5\")\n",
    "print(\"Model saved\")\n",
    "\n",
    "# when you want to retrieve the model: load json and create model\n",
    "json_file = open('model.json', 'r')\n",
    "saved_model = json_file.read()\n",
    "# close the file as good practice\n",
    "json_file.close()\n",
    "model_from_json = model_from_json(saved_model)\n",
    "# load weights into new model\n",
    "model_from_json.load_weights(\"model.h5\")\n",
    "print(\"Model loaded\")"
   ]
  },
  {
   "cell_type": "code",
   "execution_count": null,
   "metadata": {},
   "outputs": [],
   "source": [
    "# repeat some of the initial values here so we make sure they were not changed\n",
    "input_dim = x_train.shape[1]\n",
    "num_classes = 10\n",
    "\n",
    "# let's create a function that creates the model (required for KerasClassifier) \n",
    "# while accepting the hyperparameters we want to tune \n",
    "# we also pass some default values such as optimizer='rmsprop'\n",
    "def create_model_2(optimizer='rmsprop', init='glorot_uniform'):\n",
    "    model = Sequential()\n",
    "    model.add(Dense(64, input_dim=input_dim, kernel_initializer=init, activation='relu'))\n",
    "    model.add(Dropout(0.1))\n",
    "    model.add(Dense(64, kernel_initializer=init, activation=tf.nn.relu))\n",
    "    model.add(Dense(num_classes, kernel_initializer=init, activation=tf.nn.softmax))\n",
    "\n",
    "    # compile model\n",
    "    model.compile(loss='categorical_crossentropy', \n",
    "                  optimizer=optimizer, \n",
    "                  metrics=['accuracy'])\n",
    "\n",
    "    return model"
   ]
  },
  {
   "cell_type": "code",
   "execution_count": null,
   "metadata": {},
   "outputs": [],
   "source": [
    "%%time\n",
    "# fix random seed for reproducibility (this might work or might not work \n",
    "# depending on each library's implenentation)\n",
    "seed = 7\n",
    "numpy.random.seed(seed)\n",
    "\n",
    "# create the sklearn model for the network\n",
    "model_init_batch_epoch_CV = KerasClassifier(build_fn=create_model_2, verbose=1)\n",
    "\n",
    "# we choose the initializers that came at the top in our previous cross-validation!!\n",
    "init_mode = ['glorot_uniform', 'uniform'] \n",
    "batches = [128, 512]\n",
    "epochs = [10, 20]\n",
    "\n",
    "# grid search for initializer, batch size and number of epochs\n",
    "param_grid = dict(epochs=epochs, batch_size=batches, init=init_mode)\n",
    "grid = GridSearchCV(estimator=model_init_batch_epoch_CV, \n",
    "                    param_grid=param_grid,\n",
    "                    cv=3)\n",
    "grid_result = grid.fit(x_train, y_train)\n"
   ]
  },
  {
   "cell_type": "code",
   "execution_count": null,
   "metadata": {},
   "outputs": [],
   "source": [
    "# print results\n",
    "print(f'Best Accuracy for {grid_result.best_score_:.4} using {grid_result.best_params_}')\n",
    "means = grid_result.cv_results_['mean_test_score']\n",
    "stds = grid_result.cv_results_['std_test_score']\n",
    "params = grid_result.cv_results_['params']\n",
    "for mean, stdev, param in zip(means, stds, params):\n",
    "    print(f'mean={mean:.4}, std={stdev:.4} using {param}')\n"
   ]
  },
  {
   "cell_type": "code",
   "execution_count": null,
   "metadata": {},
   "outputs": [],
   "source": []
  }
 ],
 "metadata": {
  "kernelspec": {
   "display_name": "Python 3.6 (tensorflow)",
   "language": "python",
   "name": "tensorflow"
  },
  "language_info": {
   "codemirror_mode": {
    "name": "ipython",
    "version": 3
   },
   "file_extension": ".py",
   "mimetype": "text/x-python",
   "name": "python",
   "nbconvert_exporter": "python",
   "pygments_lexer": "ipython3",
   "version": "3.7.7"
  }
 },
 "nbformat": 4,
 "nbformat_minor": 4
}
