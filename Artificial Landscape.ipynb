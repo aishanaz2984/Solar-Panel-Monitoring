{
 "cells": [
  {
   "cell_type": "code",
   "execution_count": 10,
   "metadata": {},
   "outputs": [],
   "source": [
    "#mrdragonbear tutorial\n",
    "import matplotlib.pyplot as plt\n",
    "import numpy as np\n",
    "from scipy.optimize import minimize\n",
    "\n",
    "%matplotlib inline\n",
    "\n",
    "import tensorflow as tf\n",
    "import keras\n",
    "from keras import layers\n",
    "from keras import models\n",
    "from keras import utils\n",
    "from keras.layers import Dense\n",
    "from keras.models import Sequential\n",
    "from keras.layers import Flatten\n",
    "from keras.layers import Dropout\n",
    "from keras.layers import Activation\n",
    "from keras.regularizers import l2\n",
    "from keras.optimizers import SGD\n",
    "from keras.optimizers import RMSprop\n",
    "from keras import datasets\n",
    "\n",
    "from keras.callbacks import LearningRateScheduler\n",
    "from keras.callbacks import History\n",
    "\n",
    "from keras import losses\n",
    "from sklearn.utils import shuffle\n",
    "\n"
   ]
  },
  {
   "cell_type": "code",
   "execution_count": 11,
   "metadata": {},
   "outputs": [],
   "source": [
    "# define Beale's function which we want to minimize\n",
    "def objective(X):\n",
    "    x = X[0]; y = X[1]\n",
    "    return (1.5 - x + x*y)**2 + (2.25 - x + x*y**2)**2 + (2.625 - x + x*y**3)**2"
   ]
  },
  {
   "cell_type": "code",
   "execution_count": 12,
   "metadata": {},
   "outputs": [],
   "source": [
    "# function boundaries\n",
    "xmin, xmax, xstep = -4.5, 4.5, .9\n",
    "ymin, ymax, ystep = -4.5, 4.5, .9"
   ]
  },
  {
   "cell_type": "code",
   "execution_count": 13,
   "metadata": {},
   "outputs": [],
   "source": [
    "# Let's create some points\n",
    "x1, y1 = np.meshgrid(np.arange(xmin, xmax + xstep, xstep), np.arange(ymin, ymax + ystep, ystep))\n"
   ]
  },
  {
   "cell_type": "code",
   "execution_count": 14,
   "metadata": {},
   "outputs": [
    {
     "name": "stdout",
     "output_type": "stream",
     "text": [
      "68891.203125\n"
     ]
    }
   ],
   "source": [
    "# initial guess\n",
    "x0 = [4., 4.]  \n",
    "f0 = objective(x0)\n",
    "print (f0)"
   ]
  },
  {
   "cell_type": "code",
   "execution_count": 15,
   "metadata": {},
   "outputs": [],
   "source": [
    "bnds = ((xmin, xmax), (ymin, ymax))\n",
    "minimum = minimize(objective, x0, bounds=bnds)"
   ]
  },
  {
   "cell_type": "code",
   "execution_count": 16,
   "metadata": {},
   "outputs": [
    {
     "name": "stdout",
     "output_type": "stream",
     "text": [
      "      fun: 2.068032093839601e-12\n",
      " hess_inv: <2x2 LbfgsInvHessProduct with dtype=float64>\n",
      "      jac: array([-1.55968975e-06,  9.89836269e-06])\n",
      "  message: b'CONVERGENCE: NORM_OF_PROJECTED_GRADIENT_<=_PGTOL'\n",
      "     nfev: 60\n",
      "      nit: 14\n",
      "     njev: 20\n",
      "   status: 0\n",
      "  success: True\n",
      "        x: array([3.00000257, 0.50000085])\n"
     ]
    }
   ],
   "source": [
    "print(minimum)\n"
   ]
  },
  {
   "cell_type": "code",
   "execution_count": 17,
   "metadata": {},
   "outputs": [
    {
     "name": "stdout",
     "output_type": "stream",
     "text": [
      "The answer, [3.00000257 0.50000085], is very close to the optimum as we know it, which is [3.0, 0.5]\n",
      "The value of the objective for [3.0, 0.5] is 0.0\n"
     ]
    }
   ],
   "source": [
    "real_min = [3.0, 0.5]\n",
    "print (f'The answer, {minimum.x}, is very close to the optimum as we know it, which is {real_min}') \n",
    "print (f'The value of the objective for {real_min} is {objective(real_min)}')"
   ]
  },
  {
   "cell_type": "code",
   "execution_count": 18,
   "metadata": {},
   "outputs": [],
   "source": [
    "# fix random seed for reproducibility\n",
    "np.random.seed(5)"
   ]
  },
  {
   "cell_type": "code",
   "execution_count": 19,
   "metadata": {},
   "outputs": [
    {
     "data": {
      "text/plain": [
       "((60000, 28, 28), (60000,))"
      ]
     },
     "execution_count": 19,
     "metadata": {},
     "output_type": "execute_result"
    }
   ],
   "source": [
    "mnist = keras.datasets.mnist\n",
    "(x_train, y_train),(x_test, y_test) = mnist.load_data()\n",
    "x_train.shape, y_train.shape"
   ]
  },
  {
   "cell_type": "code",
   "execution_count": 20,
   "metadata": {},
   "outputs": [
    {
     "data": {
      "image/png": "[encoded data removed]",
      "text/plain": [
       "<Figure size 720x720 with 10 Axes>"
      ]
     },
     "metadata": {},
     "output_type": "display_data"
    }
   ],
   "source": [
    "plt.figure(figsize=(10,10))\n",
    "for i in range(10):\n",
    "    plt.subplot(5,5,i+1)\n",
    "    plt.xticks([])\n",
    "    plt.yticks([])\n",
    "    plt.grid(False)\n",
    "    plt.imshow(x_train[i], cmap=plt.cm.binary)\n",
    "    plt.xlabel(y_train[i])"
   ]
  },
  {
   "cell_type": "code",
   "execution_count": 21,
   "metadata": {},
   "outputs": [
    {
     "name": "stdout",
     "output_type": "stream",
     "text": [
      "We have 60000 train samples\n",
      "We have 10000 test samples\n"
     ]
    }
   ],
   "source": [
    "print(f'We have {x_train.shape[0]} train samples')\n",
    "print(f'We have {x_test.shape[0]} test samples')"
   ]
  },
  {
   "cell_type": "code",
   "execution_count": 22,
   "metadata": {},
   "outputs": [
    {
     "data": {
      "text/plain": [
       "784"
      ]
     },
     "execution_count": 22,
     "metadata": {},
     "output_type": "execute_result"
    }
   ],
   "source": [
    "# normalize the data\n",
    "x_train, x_test = x_train / 255.0, x_test / 255.0\n",
    "\n",
    "# reshape the data into 1D vectors\n",
    "x_train = x_train.reshape(60000, 784)\n",
    "x_test = x_test.reshape(10000, 784)\n",
    "\n",
    "num_classes = 10\n",
    "\n",
    "# Check the column length\n",
    "x_train.shape[1]"
   ]
  },
  {
   "cell_type": "code",
   "execution_count": 23,
   "metadata": {},
   "outputs": [],
   "source": [
    "# Convert class vectors to binary class matrices\n",
    "y_train = keras.utils.to_categorical(y_train, num_classes)\n",
    "y_test = keras.utils.to_categorical(y_test, num_classes)"
   ]
  },
  {
   "cell_type": "code",
   "execution_count": 24,
   "metadata": {},
   "outputs": [
    {
     "data": {
      "text/plain": [
       "array([0., 0., 0., 0., 0., 1., 0., 0., 0., 0.], dtype=float32)"
      ]
     },
     "execution_count": 24,
     "metadata": {},
     "output_type": "execute_result"
    }
   ],
   "source": [
    "y_train[0]"
   ]
  },
  {
   "cell_type": "code",
   "execution_count": 25,
   "metadata": {},
   "outputs": [],
   "source": [
    "epochs=60\n",
    "learning_rate = 0.1\n",
    "decay_rate = learning_rate / epochs\n",
    "momentum = 0.8\n",
    "\n",
    "sgd = SGD(lr=learning_rate, momentum=momentum, decay=decay_rate, nesterov=False)"
   ]
  },
  {
   "cell_type": "code",
   "execution_count": 26,
   "metadata": {},
   "outputs": [],
   "source": [
    "# build the model\n",
    "input_dim = x_train.shape[1]\n",
    "\n",
    "lr_model = Sequential()\n",
    "lr_model.add(Dense(64, activation=tf.nn.relu, kernel_initializer='uniform', input_dim = input_dim)) \n",
    "lr_model.add(Dropout(0.1))\n",
    "lr_model.add(Dense(64, kernel_initializer='uniform', activation=tf.nn.relu))\n",
    "lr_model.add(Dense(num_classes, kernel_initializer='uniform', activation=tf.nn.softmax))\n",
    "\n",
    "# compile the model\n",
    "lr_model.compile(loss='categorical_crossentropy',\n",
    "              optimizer=sgd,\n",
    "              metrics=['acc'])"
   ]
  },
  {
   "cell_type": "code",
   "execution_count": 27,
   "metadata": {},
   "outputs": [
    {
     "name": "stdout",
     "output_type": "stream",
     "text": [
      "Train on 60000 samples, validate on 10000 samples\n",
      "Epoch 1/60\n",
      "60000/60000 [==============================] - 6s 101us/step - loss: 0.3215 - acc: 0.9022 - val_loss: 0.1528 - val_acc: 0.9506\n",
      "Epoch 2/60\n",
      "60000/60000 [==============================] - 6s 99us/step - loss: 0.1625 - acc: 0.9501 - val_loss: 0.1288 - val_acc: 0.9599\n",
      "Epoch 3/60\n",
      "60000/60000 [==============================] - 6s 98us/step - loss: 0.1390 - acc: 0.9575 - val_loss: 0.1178 - val_acc: 0.9640\n",
      "Epoch 4/60\n",
      "60000/60000 [==============================] - 6s 99us/step - loss: 0.1275 - acc: 0.9607 - val_loss: 0.1188 - val_acc: 0.9642\n",
      "Epoch 5/60\n",
      "60000/60000 [==============================] - 6s 100us/step - loss: 0.1211 - acc: 0.9628 - val_loss: 0.1148 - val_acc: 0.9649\n",
      "Epoch 6/60\n",
      "60000/60000 [==============================] - 7s 109us/step - loss: 0.1131 - acc: 0.9650 - val_loss: 0.1099 - val_acc: 0.9666\n",
      "Epoch 7/60\n",
      "60000/60000 [==============================] - 6s 102us/step - loss: 0.1123 - acc: 0.9655 - val_loss: 0.1096 - val_acc: 0.9676\n",
      "Epoch 8/60\n",
      "60000/60000 [==============================] - 6s 102us/step - loss: 0.1111 - acc: 0.9655 - val_loss: 0.1089 - val_acc: 0.9678\n",
      "Epoch 9/60\n",
      "60000/60000 [==============================] - 6s 103us/step - loss: 0.1057 - acc: 0.9679 - val_loss: 0.1081 - val_acc: 0.9672\n",
      "Epoch 10/60\n",
      "60000/60000 [==============================] - 6s 104us/step - loss: 0.1058 - acc: 0.9674 - val_loss: 0.1071 - val_acc: 0.9688\n",
      "Epoch 11/60\n",
      "60000/60000 [==============================] - 6s 97us/step - loss: 0.1022 - acc: 0.9682 - val_loss: 0.1065 - val_acc: 0.9685\n",
      "Epoch 12/60\n",
      "60000/60000 [==============================] - 6s 99us/step - loss: 0.1016 - acc: 0.9692 - val_loss: 0.1062 - val_acc: 0.9689\n",
      "Epoch 13/60\n",
      "60000/60000 [==============================] - 6s 103us/step - loss: 0.0992 - acc: 0.9696 - val_loss: 0.1056 - val_acc: 0.9701\n",
      "Epoch 14/60\n",
      "60000/60000 [==============================] - 6s 102us/step - loss: 0.0980 - acc: 0.9696 - val_loss: 0.1048 - val_acc: 0.9700\n",
      "Epoch 15/60\n",
      "60000/60000 [==============================] - 6s 100us/step - loss: 0.0984 - acc: 0.9692 - val_loss: 0.1040 - val_acc: 0.9697\n",
      "Epoch 16/60\n",
      "60000/60000 [==============================] - 6s 101us/step - loss: 0.0964 - acc: 0.9706 - val_loss: 0.1039 - val_acc: 0.9703\n",
      "Epoch 17/60\n",
      "60000/60000 [==============================] - 6s 100us/step - loss: 0.0954 - acc: 0.9712 - val_loss: 0.1039 - val_acc: 0.9699\n",
      "Epoch 18/60\n",
      "60000/60000 [==============================] - 6s 102us/step - loss: 0.0948 - acc: 0.9708 - val_loss: 0.1031 - val_acc: 0.9699\n",
      "Epoch 19/60\n",
      "60000/60000 [==============================] - 6s 99us/step - loss: 0.0953 - acc: 0.9701 - val_loss: 0.1028 - val_acc: 0.9706\n",
      "Epoch 20/60\n",
      "60000/60000 [==============================] - 6s 102us/step - loss: 0.0937 - acc: 0.9710 - val_loss: 0.1026 - val_acc: 0.9710\n",
      "Epoch 21/60\n",
      "60000/60000 [==============================] - 6s 102us/step - loss: 0.0926 - acc: 0.9712 - val_loss: 0.1021 - val_acc: 0.9706\n",
      "Epoch 22/60\n",
      "60000/60000 [==============================] - 6s 101us/step - loss: 0.0899 - acc: 0.9722 - val_loss: 0.1027 - val_acc: 0.9709\n",
      "Epoch 23/60\n",
      "60000/60000 [==============================] - 6s 101us/step - loss: 0.0913 - acc: 0.9720 - val_loss: 0.1018 - val_acc: 0.9708\n",
      "Epoch 24/60\n",
      "60000/60000 [==============================] - 6s 100us/step - loss: 0.0902 - acc: 0.9719 - val_loss: 0.1014 - val_acc: 0.9703\n",
      "Epoch 25/60\n",
      "60000/60000 [==============================] - 6s 100us/step - loss: 0.0898 - acc: 0.9724 - val_loss: 0.1016 - val_acc: 0.9708\n",
      "Epoch 26/60\n",
      "60000/60000 [==============================] - 6s 100us/step - loss: 0.0892 - acc: 0.9730 - val_loss: 0.1011 - val_acc: 0.9704\n",
      "Epoch 27/60\n",
      "60000/60000 [==============================] - 6s 100us/step - loss: 0.0893 - acc: 0.9724 - val_loss: 0.1009 - val_acc: 0.9703\n",
      "Epoch 28/60\n",
      "60000/60000 [==============================] - 6s 101us/step - loss: 0.0900 - acc: 0.9722 - val_loss: 0.1014 - val_acc: 0.9705\n",
      "Epoch 29/60\n",
      "60000/60000 [==============================] - 6s 100us/step - loss: 0.0878 - acc: 0.9727 - val_loss: 0.1008 - val_acc: 0.9710\n",
      "Epoch 30/60\n",
      "60000/60000 [==============================] - 6s 102us/step - loss: 0.0875 - acc: 0.9729 - val_loss: 0.1006 - val_acc: 0.9703\n",
      "Epoch 31/60\n",
      "60000/60000 [==============================] - 6s 100us/step - loss: 0.0887 - acc: 0.9729 - val_loss: 0.1008 - val_acc: 0.9704\n",
      "Epoch 32/60\n",
      "60000/60000 [==============================] - 6s 100us/step - loss: 0.0862 - acc: 0.9735 - val_loss: 0.1000 - val_acc: 0.9715\n",
      "Epoch 33/60\n",
      "60000/60000 [==============================] - 6s 100us/step - loss: 0.0858 - acc: 0.9732 - val_loss: 0.1001 - val_acc: 0.9709\n",
      "Epoch 34/60\n",
      "60000/60000 [==============================] - 6s 99us/step - loss: 0.0858 - acc: 0.9734 - val_loss: 0.0998 - val_acc: 0.9709\n",
      "Epoch 35/60\n",
      "60000/60000 [==============================] - 6s 98us/step - loss: 0.0875 - acc: 0.9728 - val_loss: 0.1000 - val_acc: 0.9707\n",
      "Epoch 36/60\n",
      "60000/60000 [==============================] - 6s 100us/step - loss: 0.0863 - acc: 0.9733 - val_loss: 0.0996 - val_acc: 0.9711\n",
      "Epoch 37/60\n",
      "60000/60000 [==============================] - 6s 98us/step - loss: 0.0850 - acc: 0.9736 - val_loss: 0.0996 - val_acc: 0.9715\n",
      "Epoch 38/60\n",
      "60000/60000 [==============================] - 6s 99us/step - loss: 0.0859 - acc: 0.9732 - val_loss: 0.0999 - val_acc: 0.9712\n",
      "Epoch 39/60\n",
      "60000/60000 [==============================] - 6s 100us/step - loss: 0.0859 - acc: 0.9736 - val_loss: 0.0997 - val_acc: 0.9711\n",
      "Epoch 40/60\n",
      "60000/60000 [==============================] - 6s 101us/step - loss: 0.0859 - acc: 0.9730 - val_loss: 0.0994 - val_acc: 0.9715\n",
      "Epoch 41/60\n",
      "60000/60000 [==============================] - 6s 103us/step - loss: 0.0858 - acc: 0.9737 - val_loss: 0.0991 - val_acc: 0.9708\n",
      "Epoch 42/60\n",
      "60000/60000 [==============================] - 6s 100us/step - loss: 0.0845 - acc: 0.9739 - val_loss: 0.0991 - val_acc: 0.9718\n",
      "Epoch 43/60\n",
      "60000/60000 [==============================] - 6s 99us/step - loss: 0.0822 - acc: 0.9744 - val_loss: 0.0993 - val_acc: 0.9715\n",
      "Epoch 44/60\n",
      "60000/60000 [==============================] - 6s 99us/step - loss: 0.0823 - acc: 0.9743 - val_loss: 0.0990 - val_acc: 0.9716\n",
      "Epoch 45/60\n",
      "60000/60000 [==============================] - 6s 99us/step - loss: 0.0834 - acc: 0.9734 - val_loss: 0.0990 - val_acc: 0.9716\n",
      "Epoch 46/60\n",
      "60000/60000 [==============================] - 6s 98us/step - loss: 0.0850 - acc: 0.9733 - val_loss: 0.0986 - val_acc: 0.9714\n",
      "Epoch 47/60\n",
      "60000/60000 [==============================] - 6s 98us/step - loss: 0.0842 - acc: 0.9742 - val_loss: 0.0990 - val_acc: 0.9716\n",
      "Epoch 48/60\n",
      "60000/60000 [==============================] - 6s 98us/step - loss: 0.0827 - acc: 0.9739 - val_loss: 0.0985 - val_acc: 0.9715\n",
      "Epoch 49/60\n",
      "60000/60000 [==============================] - 6s 98us/step - loss: 0.0819 - acc: 0.9743 - val_loss: 0.0992 - val_acc: 0.9714\n",
      "Epoch 50/60\n",
      "60000/60000 [==============================] - 6s 97us/step - loss: 0.0823 - acc: 0.9746 - val_loss: 0.0991 - val_acc: 0.9717\n",
      "Epoch 51/60\n",
      "60000/60000 [==============================] - 6s 99us/step - loss: 0.0819 - acc: 0.9751 - val_loss: 0.0988 - val_acc: 0.9719\n",
      "Epoch 52/60\n",
      "60000/60000 [==============================] - 6s 99us/step - loss: 0.0823 - acc: 0.9744 - val_loss: 0.0986 - val_acc: 0.9716\n",
      "Epoch 53/60\n",
      "60000/60000 [==============================] - 6s 103us/step - loss: 0.0819 - acc: 0.9746 - val_loss: 0.0983 - val_acc: 0.9717\n",
      "Epoch 54/60\n",
      "60000/60000 [==============================] - 6s 102us/step - loss: 0.0822 - acc: 0.9748 - val_loss: 0.0982 - val_acc: 0.9721\n",
      "Epoch 55/60\n",
      "60000/60000 [==============================] - 6s 100us/step - loss: 0.0822 - acc: 0.9746 - val_loss: 0.0982 - val_acc: 0.9721\n",
      "Epoch 56/60\n",
      "60000/60000 [==============================] - 6s 100us/step - loss: 0.0821 - acc: 0.9745 - val_loss: 0.0978 - val_acc: 0.9720\n",
      "Epoch 57/60\n",
      "60000/60000 [==============================] - 6s 99us/step - loss: 0.0781 - acc: 0.9760 - val_loss: 0.0980 - val_acc: 0.9720\n",
      "Epoch 58/60\n",
      "60000/60000 [==============================] - 6s 99us/step - loss: 0.0802 - acc: 0.9749 - val_loss: 0.0979 - val_acc: 0.9720\n",
      "Epoch 59/60\n",
      "60000/60000 [==============================] - 6s 99us/step - loss: 0.0820 - acc: 0.9745 - val_loss: 0.0977 - val_acc: 0.9721\n"
     ]
    },
    {
     "name": "stdout",
     "output_type": "stream",
     "text": [
      "Epoch 60/60\n",
      "60000/60000 [==============================] - 6s 98us/step - loss: 0.0789 - acc: 0.9752 - val_loss: 0.0976 - val_acc: 0.9721\n",
      "Wall time: 6min\n"
     ]
    }
   ],
   "source": [
    "%%time\n",
    "# Fit the model\n",
    "batch_size = int(input_dim/100)\n",
    "\n",
    "lr_model_history = lr_model.fit(x_train, y_train,\n",
    "                    batch_size=batch_size,\n",
    "                    epochs=epochs,\n",
    "                    verbose=1,\n",
    "                    validation_data=(x_test, y_test))"
   ]
  },
  {
   "cell_type": "code",
   "execution_count": 28,
   "metadata": {},
   "outputs": [
    {
     "data": {
      "image/png": "[encoded data removed]",
      "text/plain": [
       "<Figure size 720x432 with 1 Axes>"
      ]
     },
     "metadata": {
      "needs_background": "light"
     },
     "output_type": "display_data"
    }
   ],
   "source": [
    "fig, ax = plt.subplots(1, 1, figsize=(10,6))\n",
    "ax.plot(np.sqrt(lr_model_history.history['loss']), 'r', label='train')\n",
    "ax.plot(np.sqrt(lr_model_history.history['val_loss']), 'b' ,label='val')\n",
    "ax.set_xlabel(r'Epoch', fontsize=20)\n",
    "ax.set_ylabel(r'Loss', fontsize=20)\n",
    "ax.legend()\n",
    "ax.tick_params(labelsize=20)"
   ]
  },
  {
   "cell_type": "code",
   "execution_count": 29,
   "metadata": {},
   "outputs": [
    {
     "data": {
      "image/png": "[encoded data removed]",
      "text/plain": [
       "<Figure size 720x432 with 1 Axes>"
      ]
     },
     "metadata": {
      "needs_background": "light"
     },
     "output_type": "display_data"
    }
   ],
   "source": [
    "fig, ax = plt.subplots(1, 1, figsize=(10,6))\n",
    "ax.plot(np.sqrt(lr_model_history.history['acc']), 'r', label='train')\n",
    "ax.plot(np.sqrt(lr_model_history.history['val_acc']), 'b' ,label='val')\n",
    "ax.set_xlabel(r'Epoch', fontsize=20)\n",
    "ax.set_ylabel(r'Accuracy', fontsize=20)\n",
    "ax.legend()\n",
    "ax.tick_params(labelsize=20)"
   ]
  },
  {
   "cell_type": "code",
   "execution_count": 30,
   "metadata": {},
   "outputs": [],
   "source": [
    "# solution\n",
    "epochs = 60\n",
    "learning_rate = 0.1 # initial learning rate\n",
    "decay_rate = 0.1\n",
    "momentum = 0.8\n",
    "\n",
    "# define the optimizer function\n",
    "sgd = SGD(lr=learning_rate, momentum=momentum, decay=decay_rate, nesterov=False)"
   ]
  },
  {
   "cell_type": "code",
   "execution_count": 31,
   "metadata": {},
   "outputs": [],
   "source": [
    "input_dim = x_train.shape[1]\n",
    "num_classes = 10\n",
    "batch_size = 196\n",
    "\n",
    "# build the model\n",
    "exponential_decay_model = Sequential()\n",
    "exponential_decay_model.add(Dense(64, activation=tf.nn.relu, kernel_initializer='uniform', input_dim = input_dim))\n",
    "exponential_decay_model.add(Dropout(0.1))\n",
    "exponential_decay_model.add(Dense(64, kernel_initializer='uniform', activation=tf.nn.relu))\n",
    "exponential_decay_model.add(Dense(num_classes, kernel_initializer='uniform', activation=tf.nn.softmax))\n",
    "\n",
    "# compile the model\n",
    "exponential_decay_model.compile(loss='categorical_crossentropy', \n",
    "                                optimizer=sgd, \n",
    "                                metrics=['acc'])"
   ]
  },
  {
   "cell_type": "code",
   "execution_count": 32,
   "metadata": {},
   "outputs": [],
   "source": [
    "# define the learning rate change \n",
    "def exp_decay(epoch):\n",
    "    lrate = learning_rate * np.exp(-decay_rate*epoch)\n",
    "    return lrate"
   ]
  },
  {
   "cell_type": "code",
   "execution_count": 33,
   "metadata": {},
   "outputs": [
    {
     "name": "stdout",
     "output_type": "stream",
     "text": [
      "Train on 60000 samples, validate on 10000 samples\n",
      "Epoch 1/60\n",
      "60000/60000 [==============================] - 1s 13us/step - loss: 1.9817 - acc: 0.3903 - val_loss: 1.4723 - val_acc: 0.5882\n",
      "Epoch 2/60\n",
      "60000/60000 [==============================] - 1s 12us/step - loss: 1.2260 - acc: 0.6407 - val_loss: 1.0023 - val_acc: 0.7197\n",
      "Epoch 3/60\n",
      "60000/60000 [==============================] - 1s 12us/step - loss: 0.9682 - acc: 0.7170 - val_loss: 0.8503 - val_acc: 0.7640\n",
      "Epoch 4/60\n",
      "60000/60000 [==============================] - 1s 12us/step - loss: 0.8625 - acc: 0.7473 - val_loss: 0.7729 - val_acc: 0.7881\n",
      "Epoch 5/60\n",
      "60000/60000 [==============================] - 1s 12us/step - loss: 0.8043 - acc: 0.7626 - val_loss: 0.7266 - val_acc: 0.7987\n",
      "Epoch 6/60\n",
      "60000/60000 [==============================] - 1s 12us/step - loss: 0.7686 - acc: 0.7693 - val_loss: 0.6968 - val_acc: 0.8046\n",
      "Epoch 7/60\n",
      "60000/60000 [==============================] - 1s 12us/step - loss: 0.7468 - acc: 0.7757 - val_loss: 0.6766 - val_acc: 0.8109\n",
      "Epoch 8/60\n",
      "60000/60000 [==============================] - 1s 12us/step - loss: 0.7289 - acc: 0.7800 - val_loss: 0.6621 - val_acc: 0.8132\n",
      "Epoch 9/60\n",
      "60000/60000 [==============================] - 1s 12us/step - loss: 0.7169 - acc: 0.7853 - val_loss: 0.6513 - val_acc: 0.8160\n",
      "Epoch 10/60\n",
      "60000/60000 [==============================] - 1s 12us/step - loss: 0.7097 - acc: 0.7849 - val_loss: 0.6428 - val_acc: 0.8176\n",
      "Epoch 11/60\n",
      "60000/60000 [==============================] - 1s 12us/step - loss: 0.7009 - acc: 0.7869 - val_loss: 0.6362 - val_acc: 0.8189\n",
      "Epoch 12/60\n",
      "60000/60000 [==============================] - 1s 12us/step - loss: 0.6965 - acc: 0.7904 - val_loss: 0.6311 - val_acc: 0.8192\n",
      "Epoch 13/60\n",
      "60000/60000 [==============================] - 1s 12us/step - loss: 0.6908 - acc: 0.7895 - val_loss: 0.6268 - val_acc: 0.8202\n",
      "Epoch 14/60\n",
      "60000/60000 [==============================] - 1s 12us/step - loss: 0.6880 - acc: 0.7905 - val_loss: 0.6233 - val_acc: 0.8205\n",
      "Epoch 15/60\n",
      "60000/60000 [==============================] - 1s 12us/step - loss: 0.6848 - acc: 0.7926 - val_loss: 0.6203 - val_acc: 0.8211\n",
      "Epoch 16/60\n",
      "60000/60000 [==============================] - 1s 12us/step - loss: 0.6793 - acc: 0.7943 - val_loss: 0.6179 - val_acc: 0.8212\n",
      "Epoch 17/60\n",
      "60000/60000 [==============================] - 1s 12us/step - loss: 0.6791 - acc: 0.7954 - val_loss: 0.6159 - val_acc: 0.8217\n",
      "Epoch 18/60\n",
      "60000/60000 [==============================] - 1s 12us/step - loss: 0.6783 - acc: 0.7951 - val_loss: 0.6142 - val_acc: 0.8222\n",
      "Epoch 19/60\n",
      "60000/60000 [==============================] - 1s 12us/step - loss: 0.6752 - acc: 0.7964 - val_loss: 0.6128 - val_acc: 0.8229\n",
      "Epoch 20/60\n",
      "60000/60000 [==============================] - 1s 12us/step - loss: 0.6758 - acc: 0.7946 - val_loss: 0.6116 - val_acc: 0.8237\n",
      "Epoch 21/60\n",
      "60000/60000 [==============================] - 1s 12us/step - loss: 0.6735 - acc: 0.7964 - val_loss: 0.6106 - val_acc: 0.8243\n",
      "Epoch 22/60\n",
      "60000/60000 [==============================] - 1s 12us/step - loss: 0.6704 - acc: 0.7972 - val_loss: 0.6096 - val_acc: 0.8245\n",
      "Epoch 23/60\n",
      "60000/60000 [==============================] - 1s 12us/step - loss: 0.6709 - acc: 0.7972 - val_loss: 0.6089 - val_acc: 0.8248\n",
      "Epoch 24/60\n",
      "60000/60000 [==============================] - 1s 12us/step - loss: 0.6692 - acc: 0.7987 - val_loss: 0.6082 - val_acc: 0.8252\n",
      "Epoch 25/60\n",
      "60000/60000 [==============================] - 1s 12us/step - loss: 0.6712 - acc: 0.7975 - val_loss: 0.6076 - val_acc: 0.8253\n",
      "Epoch 26/60\n",
      "60000/60000 [==============================] - 1s 12us/step - loss: 0.6677 - acc: 0.7979 - val_loss: 0.6071 - val_acc: 0.8253\n",
      "Epoch 27/60\n",
      "60000/60000 [==============================] - 1s 12us/step - loss: 0.6691 - acc: 0.7986 - val_loss: 0.6067 - val_acc: 0.8253\n",
      "Epoch 28/60\n",
      "60000/60000 [==============================] - 1s 12us/step - loss: 0.6684 - acc: 0.7976 - val_loss: 0.6063 - val_acc: 0.8254\n",
      "Epoch 29/60\n",
      "60000/60000 [==============================] - 1s 12us/step - loss: 0.6670 - acc: 0.7983 - val_loss: 0.6060 - val_acc: 0.8254\n",
      "Epoch 30/60\n",
      "60000/60000 [==============================] - 1s 12us/step - loss: 0.6674 - acc: 0.7994 - val_loss: 0.6057 - val_acc: 0.8254\n",
      "Epoch 31/60\n",
      "60000/60000 [==============================] - 1s 12us/step - loss: 0.6684 - acc: 0.7970 - val_loss: 0.6055 - val_acc: 0.8256\n",
      "Epoch 32/60\n",
      "60000/60000 [==============================] - 1s 12us/step - loss: 0.6671 - acc: 0.7988 - val_loss: 0.6052 - val_acc: 0.8258\n",
      "Epoch 33/60\n",
      "60000/60000 [==============================] - 1s 12us/step - loss: 0.6684 - acc: 0.7981 - val_loss: 0.6050 - val_acc: 0.8256\n",
      "Epoch 34/60\n",
      "60000/60000 [==============================] - 1s 12us/step - loss: 0.6663 - acc: 0.7983 - val_loss: 0.6049 - val_acc: 0.8257\n",
      "Epoch 35/60\n",
      "60000/60000 [==============================] - 1s 12us/step - loss: 0.6677 - acc: 0.7990 - val_loss: 0.6047 - val_acc: 0.8257\n",
      "Epoch 36/60\n",
      "60000/60000 [==============================] - 1s 12us/step - loss: 0.6651 - acc: 0.7991 - val_loss: 0.6046 - val_acc: 0.8257\n",
      "Epoch 37/60\n",
      "60000/60000 [==============================] - 1s 12us/step - loss: 0.6664 - acc: 0.7973 - val_loss: 0.6045 - val_acc: 0.8258\n",
      "Epoch 38/60\n",
      "60000/60000 [==============================] - 1s 12us/step - loss: 0.6665 - acc: 0.7975 - val_loss: 0.6044 - val_acc: 0.8259\n",
      "Epoch 39/60\n",
      "60000/60000 [==============================] - 1s 12us/step - loss: 0.6674 - acc: 0.7976 - val_loss: 0.6043 - val_acc: 0.8259\n",
      "Epoch 40/60\n",
      "60000/60000 [==============================] - 1s 12us/step - loss: 0.6662 - acc: 0.7979 - val_loss: 0.6042 - val_acc: 0.8259\n",
      "Epoch 41/60\n",
      "60000/60000 [==============================] - 1s 12us/step - loss: 0.6659 - acc: 0.7977 - val_loss: 0.6041 - val_acc: 0.8259\n",
      "Epoch 42/60\n",
      "60000/60000 [==============================] - 1s 12us/step - loss: 0.6662 - acc: 0.8001 - val_loss: 0.6041 - val_acc: 0.8259\n",
      "Epoch 43/60\n",
      "60000/60000 [==============================] - 1s 12us/step - loss: 0.6665 - acc: 0.7961 - val_loss: 0.6040 - val_acc: 0.8259\n",
      "Epoch 44/60\n",
      "60000/60000 [==============================] - 1s 12us/step - loss: 0.6667 - acc: 0.7982 - val_loss: 0.6040 - val_acc: 0.8259\n",
      "Epoch 45/60\n",
      "60000/60000 [==============================] - 1s 12us/step - loss: 0.6661 - acc: 0.7981 - val_loss: 0.6039 - val_acc: 0.8259\n",
      "Epoch 46/60\n",
      "60000/60000 [==============================] - 1s 12us/step - loss: 0.6681 - acc: 0.7978 - val_loss: 0.6039 - val_acc: 0.8259\n",
      "Epoch 47/60\n",
      "60000/60000 [==============================] - 1s 12us/step - loss: 0.6671 - acc: 0.7976 - val_loss: 0.6039 - val_acc: 0.8259\n",
      "Epoch 48/60\n",
      "60000/60000 [==============================] - 1s 12us/step - loss: 0.6653 - acc: 0.7979 - val_loss: 0.6038 - val_acc: 0.8260\n",
      "Epoch 49/60\n",
      "60000/60000 [==============================] - 1s 12us/step - loss: 0.6663 - acc: 0.7970 - val_loss: 0.6038 - val_acc: 0.8261\n",
      "Epoch 50/60\n",
      "60000/60000 [==============================] - 1s 12us/step - loss: 0.6685 - acc: 0.7973 - val_loss: 0.6038 - val_acc: 0.8261\n",
      "Epoch 51/60\n",
      "60000/60000 [==============================] - 1s 12us/step - loss: 0.6662 - acc: 0.7961 - val_loss: 0.6038 - val_acc: 0.8261\n",
      "Epoch 52/60\n",
      "60000/60000 [==============================] - 1s 12us/step - loss: 0.6653 - acc: 0.7987 - val_loss: 0.6038 - val_acc: 0.8262\n",
      "Epoch 53/60\n",
      "60000/60000 [==============================] - 1s 12us/step - loss: 0.6659 - acc: 0.7982 - val_loss: 0.6037 - val_acc: 0.8262\n",
      "Epoch 54/60\n",
      "60000/60000 [==============================] - 1s 12us/step - loss: 0.6641 - acc: 0.7987 - val_loss: 0.6037 - val_acc: 0.8262\n",
      "Epoch 55/60\n",
      "60000/60000 [==============================] - 1s 12us/step - loss: 0.6658 - acc: 0.7980 - val_loss: 0.6037 - val_acc: 0.8261\n",
      "Epoch 56/60\n",
      "60000/60000 [==============================] - 1s 12us/step - loss: 0.6652 - acc: 0.7990 - val_loss: 0.6037 - val_acc: 0.8261\n",
      "Epoch 57/60\n",
      "60000/60000 [==============================] - 1s 12us/step - loss: 0.6638 - acc: 0.7998 - val_loss: 0.6037 - val_acc: 0.8261\n",
      "Epoch 58/60\n",
      "60000/60000 [==============================] - 1s 12us/step - loss: 0.6649 - acc: 0.7979 - val_loss: 0.6037 - val_acc: 0.8261\n",
      "Epoch 59/60\n",
      "60000/60000 [==============================] - 1s 12us/step - loss: 0.6665 - acc: 0.7964 - val_loss: 0.6037 - val_acc: 0.8261\n",
      "Epoch 60/60\n"
     ]
    },
    {
     "name": "stdout",
     "output_type": "stream",
     "text": [
      "60000/60000 [==============================] - 1s 12us/step - loss: 0.6664 - acc: 0.7977 - val_loss: 0.6037 - val_acc: 0.8261\n"
     ]
    }
   ],
   "source": [
    "# learning schedule callback\n",
    "loss_history = History()\n",
    "lr_rate = LearningRateScheduler(exp_decay)\n",
    "callbacks_list = [loss_history, lr_rate]\n",
    "\n",
    "# you invoke the LearningRateScheduler during the .fit() phase\n",
    "exponential_decay_model_history = exponential_decay_model.fit(x_train, y_train,\n",
    "                                    batch_size=batch_size,\n",
    "                                    epochs=epochs,\n",
    "                                    callbacks=callbacks_list,\n",
    "                                    verbose=1,\n",
    "                                    validation_data=(x_test, y_test))"
   ]
  },
  {
   "cell_type": "code",
   "execution_count": null,
   "metadata": {},
   "outputs": [],
   "source": []
  }
 ],
 "metadata": {
  "kernelspec": {
   "display_name": "Python 3.6 (tensorflow)",
   "language": "python",
   "name": "tensorflow"
  },
  "language_info": {
   "codemirror_mode": {
    "name": "ipython",
    "version": 3
   },
   "file_extension": ".py",
   "mimetype": "text/x-python",
   "name": "python",
   "nbconvert_exporter": "python",
   "pygments_lexer": "ipython3",
   "version": "3.7.7"
  }
 },
 "nbformat": 4,
 "nbformat_minor": 4
}
