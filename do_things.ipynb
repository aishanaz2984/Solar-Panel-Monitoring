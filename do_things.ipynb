{
 "cells": [
  {
   "cell_type": "code",
   "execution_count": 13,
   "metadata": {},
   "outputs": [
    {
     "data": {
      "text/plain": [
       "'C:\\\\Users\\\\aisha\\\\Solar-Panel-Monitoring'"
      ]
     },
     "execution_count": 13,
     "metadata": {},
     "output_type": "execute_result"
    }
   ],
   "source": [
    "import os\n",
    "os.getcwd()\n"
   ]
  },
  {
   "cell_type": "code",
   "execution_count": 14,
   "metadata": {},
   "outputs": [],
   "source": [
    "import pandas as pd\n",
    "df=pd.read_csv(r'C:\\\\Users\\\\aisha\\\\Solar-Panel-Monitoring\\\\temp_matrix (25).csv')\n"
   ]
  },
  {
   "cell_type": "code",
   "execution_count": 16,
   "metadata": {},
   "outputs": [
    {
     "name": "stdout",
     "output_type": "stream",
     "text": [
      "       timestamp        date         time      day  irradiance  temperature  \\\n",
      "0     1555390800  2019-04-16   9:01:06 AM  Tuesday      557.80        28.21   \n",
      "1     1555390800  2019-04-16   9:01:06 AM  Tuesday      557.80        28.21   \n",
      "2     1555394400  2019-04-16  10:01:16 AM  Tuesday      787.00        33.99   \n",
      "3     1555394400  2019-04-16  10:01:16 AM  Tuesday      787.00        33.99   \n",
      "4     1555398000  2019-04-16  11:01:52 AM  Tuesday      916.77        32.31   \n",
      "...          ...         ...          ...      ...         ...          ...   \n",
      "3015  1567342800  2019-09-01   5:06:48 PM   Sunday        3.14        38.30   \n",
      "3016  1567346400  2019-09-01   6:07:32 PM   Sunday        3.14        38.30   \n",
      "3017  1567346400  2019-09-01   6:07:32 PM   Sunday        3.14        38.30   \n",
      "3018  1567350000  2019-09-01   7:08:16 PM   Sunday        3.14        38.30   \n",
      "3019  1567350000  2019-09-01   7:08:16 PM   Sunday        3.14        38.30   \n",
      "\n",
      "          00  01  02        03  ...      25      26  27      28  29  30  \\\n",
      "0     31.463 NaN NaN  28.36625  ...  26.068  25.936 NaN  26.624 NaN NaN   \n",
      "1     27.705 NaN NaN  26.07400  ...  25.648  25.880 NaN  20.549 NaN NaN   \n",
      "2     45.556 NaN NaN  46.98625  ...  46.507  47.690 NaN  44.890 NaN NaN   \n",
      "3     46.665 NaN NaN  44.95200  ...  47.396  48.307 NaN   0.000 NaN NaN   \n",
      "4     49.921 NaN NaN  52.91900  ...  51.588  53.025 NaN  49.340 NaN NaN   \n",
      "...      ...  ..  ..       ...  ...     ...     ...  ..     ...  ..  ..   \n",
      "3015  44.139 NaN NaN  44.47500  ...  43.363  43.519 NaN   0.000 NaN NaN   \n",
      "3016     NaN NaN NaN       NaN  ...     NaN     NaN NaN     NaN NaN NaN   \n",
      "3017  38.558 NaN NaN  38.73900  ...  38.102  38.406 NaN  37.970 NaN NaN   \n",
      "3018     NaN NaN NaN       NaN  ...     NaN     NaN NaN     NaN NaN NaN   \n",
      "3019  35.345 NaN NaN  35.36000  ...  35.080  35.095 NaN  35.405 NaN NaN   \n",
      "\n",
      "           31       pmax   SCC  panel  \n",
      "0     25.9125   8801.920   673  clean  \n",
      "1     25.9610   7964.932   630  dusty  \n",
      "2     47.0325  56452.320  4520  clean  \n",
      "3     45.7140  40853.528  4447  dusty  \n",
      "4     52.6700  61858.730  5299  clean  \n",
      "...       ...        ...   ...    ...  \n",
      "3015  42.3010   7421.639   792  dusty  \n",
      "3016      NaN   1429.268   224  clean  \n",
      "3017  38.0150    671.760   140  dusty  \n",
      "3018      NaN      0.000     1  clean  \n",
      "3019  35.3300      0.000     1  dusty  \n",
      "\n",
      "[3020 rows x 41 columns]\n"
     ]
    }
   ],
   "source": [
    "print(df)"
   ]
  },
  {
   "cell_type": "code",
   "execution_count": null,
   "metadata": {},
   "outputs": [],
   "source": [
    "from keras.utils import np_utils\n",
    "\n",
    "# Set numeric type to float32 from uint8\n",
    "x_train = x_train.astype(‘float32’)\n",
    "x_test = x_test.astype(‘float32’)\n",
    "\n",
    "#\n"
   ]
  },
  {
   "cell_type": "code",
   "execution_count": null,
   "metadata": {},
   "outputs": [],
   "source": []
  }
 ],
 "metadata": {
  "kernelspec": {
   "display_name": "Python 3",
   "language": "python",
   "name": "python3"
  },
  "language_info": {
   "codemirror_mode": {
    "name": "ipython",
    "version": 3
   },
   "file_extension": ".py",
   "mimetype": "text/x-python",
   "name": "python",
   "nbconvert_exporter": "python",
   "pygments_lexer": "ipython3",
   "version": "3.8.3"
  }
 },
 "nbformat": 4,
 "nbformat_minor": 4
}
