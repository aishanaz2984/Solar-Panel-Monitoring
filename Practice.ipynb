{
 "cells": [
  {
   "cell_type": "code",
   "execution_count": 4,
   "metadata": {
    "scrolled": true
   },
   "outputs": [
    {
     "name": "stdout",
     "output_type": "stream",
     "text": [
      "2.3\n"
     ]
    }
   ],
   "source": [
    "#this example is of 3 inputs with 3 different weights and 1 neuron\n",
    "inputs = [1.0, 2.0, 3.0]\n",
    "weights = [0.2, 0.8, -0.5]\n",
    "bias = 2.0\n",
    "\n",
    "output = inputs[0]*weights[0]+inputs[1]*weights[1]+inputs[2]*weights[2] + bias\n",
    "print(output)"
   ]
  },
  {
   "cell_type": "code",
   "execution_count": 5,
   "metadata": {},
   "outputs": [
    {
     "name": "stdout",
     "output_type": "stream",
     "text": [
      "[4.8, 1.21, 2.385]\n"
     ]
    }
   ],
   "source": [
    "#In this example: three sets of weights & three biases\n",
    "#Each neuron accepts all the same inputs\n",
    "#The difference is in the weights & biases that each neuron applies to the input\n",
    "# This is a fully connected neural network: every neuron has connections to every neuron from the previous layer.\n",
    "inputs = [1, 2, 3, 2.5]\n",
    "\n",
    "weights1 = [0.2, 0.8, -0.5, 1]\n",
    "weights2 = [0.5, -0.91, 0.26, -0.5]\n",
    "weights3 = [-0.26, -0.27, 0.17, 0.87]\n",
    "\n",
    "bias1 = 2 \n",
    "bias2 = 3\n",
    "bias3 = 0.5\n",
    "\n",
    "outputs = [# Neuron 1:\n",
    "        inputs[0]*weights1[0] + \n",
    "        inputs[1]*weights1[1] + \n",
    "        inputs[2]*weights1[2] + \n",
    "        inputs[3]*weights1[3] + bias1,\n",
    "\n",
    "        # Neuron 2:\n",
    "        inputs[0]*weights2[0] + \n",
    "        inputs[1]*weights2[1] + \n",
    "        inputs[2]*weights2[2] +\n",
    "        inputs[3]*weights2[3] + bias2,\n",
    "\n",
    "        # Neuron 3:\n",
    "        inputs[0]*weights3[0] + \n",
    "        inputs[1]*weights3[1] + \n",
    "        inputs[2]*weights3[2] + \n",
    "        inputs[3]*weights3[3] + bias3]\n",
    "\n",
    "print(outputs)"
   ]
  },
  {
   "cell_type": "code",
   "execution_count": 7,
   "metadata": {},
   "outputs": [
    {
     "name": "stdout",
     "output_type": "stream",
     "text": [
      "[4.8, 1.21, 2.385]\n"
     ]
    }
   ],
   "source": [
    "#using loops to scale & handle the inputs from the last example:\n",
    "#note: the zip function iterates over multiple iterables and creates a tuple\n",
    "inputs = [1, 2, 3, 2.5]\n",
    "weights = [[0.2, 0.8, -0.5, 1],\n",
    "           [0.5, -0.91, 0.26, -0.5],\n",
    "           [-0.26, -0.27, 0.17, 0.87]]\n",
    "biases = [2, 3, 0.5]\n",
    "\n",
    "layer_outputs = []  # Output of current layer\n",
    "for neuron_weights, neuron_bias in zip(weights, biases):\n",
    "    neuron_output = 0  # Output of given neuron\n",
    "    for n_input, weight in zip(inputs, neuron_weights):\n",
    "        neuron_output += n_input*weight\n",
    "    neuron_output += neuron_bias\n",
    "    layer_outputs.append(neuron_output)\n",
    "\n",
    "#Note: the outter loop is taking each input value and multiplying it by the associated weight for that input\n",
    "#Note: the inner loop is adding all of those together and then adding a bias at the end\n",
    "#we know we have 2 neurons because there are 3 weights and 3 biases\n",
    "\n",
    "print(layer_outputs)\n",
    "\n",
    "#this calculats the outputs of each neuron by performing a dot product then adding bias, one by one"
   ]
  },
  {
   "cell_type": "code",
   "execution_count": 8,
   "metadata": {},
   "outputs": [
    {
     "name": "stdout",
     "output_type": "stream",
     "text": [
      "20\n"
     ]
    }
   ],
   "source": [
    "#when multplying arrays you either perform a dot product or a cross product\n",
    "\n",
    "a = [1,2,3]\n",
    "b = [2,3,4]\n",
    "\n",
    "#To obtain the dot product:\n",
    "dot_product = a[0]*b[0] + a[1]*b[1] + a[2]*b[2]\n",
    "print(dot_product)"
   ]
  },
  {
   "cell_type": "code",
   "execution_count": 1,
   "metadata": {},
   "outputs": [
    {
     "name": "stdout",
     "output_type": "stream",
     "text": [
      "4.8\n"
     ]
    }
   ],
   "source": [
    "#changing a and b to the \"inputs\" and \"weights\" from earlier\n",
    "#this will simplify the expression done earlier using NumPy\n",
    "import numpy as np\n",
    "\n",
    "inputs = [1.0, 2.0, 3.0, 2.5]\n",
    "weights = [0.2, 0.8, -0.5, 1.0]\n",
    "bias = 2.0\n",
    "\n",
    "\n",
    "output = np.dot(weights, inputs) + bias\n",
    "    \n",
    "print(output)"
   ]
  },
  {
   "cell_type": "code",
   "execution_count": 5,
   "metadata": {},
   "outputs": [
    {
     "name": "stdout",
     "output_type": "stream",
     "text": [
      "[4.8   1.21  2.385]\n"
     ]
    }
   ],
   "source": [
    "inputs = [1.0, 2.0, 3.0, 2.5]\n",
    "weights = [[0.2, 0.8, -0.5, 1],\n",
    "           [0.5, -0.91, 0.26, -0.5],\n",
    "           [-0.26, -0.27, 0.17, 0.87]]\n",
    "biases = [2.0, 3.0, 0.5] \n",
    "\n",
    "\n",
    "layer_outputs = np.dot(weights, inputs) + biases\n",
    "    \n",
    "print(layer_outputs)\n",
    "\n",
    "#changing order of operations: performing dot product first as one operation on all neurons & inputs\n",
    "#this will result in [2.8, -1.7, 1.885]\n",
    "#then adding a bias in the next operation: [2.8, -1.7, 1.885]+[2.0, 3.0, 0.5]\n",
    "\n"
   ]
  },
  {
   "cell_type": "code",
   "execution_count": 2,
   "metadata": {},
   "outputs": [
    {
     "data": {
      "text/plain": [
       "array([[20]])"
      ]
     },
     "execution_count": 2,
     "metadata": {},
     "output_type": "execute_result"
    }
   ],
   "source": [
    "import numpy as np\n",
    "\n",
    "a = [1, 2, 3]\n",
    "b = [2, 3, 4]\n",
    "\n",
    "a = np.array([a])\n",
    "b = np.array([b]).T\n",
    "\n",
    "\n",
    "np.dot(a, b)\n",
    "#same result as the dot product of two vectors, but this returns as a matrix\n",
    "#showing another numpy shortcut"
   ]
  }
 ],
 "metadata": {
  "kernelspec": {
   "display_name": "Python 3.6 (tensorflow)",
   "language": "python",
   "name": "tensorflow"
  },
  "language_info": {
   "codemirror_mode": {
    "name": "ipython",
    "version": 3
   },
   "file_extension": ".py",
   "mimetype": "text/x-python",
   "name": "python",
   "nbconvert_exporter": "python",
   "pygments_lexer": "ipython3",
   "version": "3.7.7"
  }
 },
 "nbformat": 4,
 "nbformat_minor": 4
}
