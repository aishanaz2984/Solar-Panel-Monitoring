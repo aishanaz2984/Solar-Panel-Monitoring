{
 "cells": [
  {
   "cell_type": "code",
   "execution_count": 13,
   "metadata": {},
   "outputs": [
    {
     "name": "stdout",
     "output_type": "stream",
     "text": [
      "       timestamp  current\n",
      "0     1595660249      451\n",
      "1     1595660250      446\n",
      "2     1595660251      443\n",
      "3     1595660252      484\n",
      "4     1595660253      443\n",
      "...          ...      ...\n",
      "1760  1595662004      443\n",
      "1761  1595662005      442\n",
      "1762  1595662006      442\n",
      "1763  1595662007      443\n",
      "1764  1595662008      442\n",
      "\n",
      "[1765 rows x 2 columns]\n"
     ]
    }
   ],
   "source": [
    "import pandas as pd\n",
    "import numpy as np\n",
    "from scipy.integrate import simps\n",
    "\n",
    "cereal_df = pd.read_csv(\"C:\\Users\\aisha\\Solar-Panel-Monitoring.csv\")\n"
   ]
  },
  {
   "cell_type": "code",
   "execution_count": 14,
   "metadata": {},
   "outputs": [],
   "source": [
    "df1['power']=df1['current']*5/1000\n",
    "df2['power']=df2['current']*5/1000\n",
    "df3['power']=df3['current']*5/1000\n",
    "df4['power']=df4['current']*5/1000\n",
    "df5['power']=df5['current']*5/1000\n",
    "df6['power']=df6['current']*5/1000\n",
    "df7['power']=df7['current']*5/1000\n",
    "df8['power']=df8['current']*5/1000\n",
    "df9['power']=df9['current']*5/1000\n",
    "df10['power']=df10['current']*5/1000\n"
   ]
  },
  {
   "cell_type": "code",
   "execution_count": 24,
   "metadata": {},
   "outputs": [
    {
     "name": "stdout",
     "output_type": "stream",
     "text": [
      "Watt-seconds 5571.165208333334\n",
      "Watt-hours 1.547545891203704\n",
      "Watt-hours for 12 hours 37.1411013888889\n"
     ]
    }
   ],
   "source": [
    "I1 = simps(df10['power'], df10['timestamp'])\n",
    "print(\"Watt-seconds\", I1)\n",
    "print(\"Watt-hours\",I1/(60*60))\n",
    "print(\"Watt-hours for 12 hours\", 12*2*I1/(60*60))"
   ]
  },
  {
   "cell_type": "code",
   "execution_count": null,
   "metadata": {},
   "outputs": [],
   "source": []
  },
  {
   "cell_type": "code",
   "execution_count": null,
   "metadata": {},
   "outputs": [],
   "source": []
  }
 ],
 "metadata": {
  "kernelspec": {
   "display_name": "Python 3",
   "language": "python",
   "name": "python3"
  },
  "language_info": {
   "codemirror_mode": {
    "name": "ipython",
    "version": 3
   },
   "file_extension": ".py",
   "mimetype": "text/x-python",
   "name": "python",
   "nbconvert_exporter": "python",
   "pygments_lexer": "ipython3",
   "version": "3.7.7"
  }
 },
 "nbformat": 4,
 "nbformat_minor": 4
}
